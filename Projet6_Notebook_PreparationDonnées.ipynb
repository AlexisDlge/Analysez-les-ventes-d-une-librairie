{
 "cells": [
  {
   "cell_type": "markdown",
   "id": "d5d81629",
   "metadata": {},
   "source": [
    "<h1 align=\"center\"> <font color='#880B03'>Notebook 1: Préparation de données</font> <h1> "
   ]
  },
  {
   "attachments": {
    "PLAN61.png": {
     "image/png": "[encoded data removed]"
    }
   },
   "cell_type": "markdown",
   "id": "f9b55075",
   "metadata": {},
   "source": [
    "![PLAN61.png](attachment:PLAN61.png)"
   ]
  },
  {
   "cell_type": "markdown",
   "id": "d65505d5",
   "metadata": {},
   "source": [
    "<h1 align=\"center\"> <font color='#880B03'>I. Configuration et mise en place de l'environnement de travail</font>  <h1>"
   ]
  },
  {
   "cell_type": "markdown",
   "id": "7c0a4772",
   "metadata": {},
   "source": [
    "<h4 align=\"center\"> <font color='#880B03'>Importation des librairies de travail</font>  <h4> "
   ]
  },
  {
   "cell_type": "code",
   "execution_count": 86,
   "id": "8e6f4b11",
   "metadata": {},
   "outputs": [],
   "source": [
    "# Importation de la librairie Pandas et numpy\n",
    "import pandas as pd\n",
    "import numpy as np\n",
    "\n",
    "# Importation eviter les messages rouges d'erreurs\n",
    "import warnings\n",
    "warnings.filterwarnings(\"ignore\")\n",
    "\n",
    "# Importation datetime\n",
    "from datetime import datetime\n",
    "from datetime import date\n",
    "\n",
    "# Import librairies pour la visualisation\n",
    "import matplotlib.pyplot as plt\n",
    "import seaborn as sns"
   ]
  },
  {
   "cell_type": "markdown",
   "id": "591b651d",
   "metadata": {},
   "source": [
    "<h4 align=\"center\"> <font color='#880B03'> Configuration du notebook et fonctions </font> <h4> "
   ]
  },
  {
   "cell_type": "code",
   "execution_count": null,
   "id": "47ea1fbc",
   "metadata": {},
   "outputs": [],
   "source": [
    "# Configuration du display options afficher toutes les lignes\n",
    "pd.set_option(\"display.max_rows\", None)"
   ]
  },
  {
   "cell_type": "markdown",
   "id": "b23a3eb0",
   "metadata": {},
   "source": [
    "<h4 align=\"center\"> <font color='#880B03'> Importation de nos données </font> <h4> "
   ]
  },
  {
   "cell_type": "code",
   "execution_count": 87,
   "id": "eb66b9be",
   "metadata": {},
   "outputs": [],
   "source": [
    "# Importation du fichier population.csv\n",
    "customer = pd.read_csv('C:/Users/alex/Desktop/Projet_6/données/customers.csv')\n",
    "\n",
    "# Importation du fichier dispo_alimentaire.csv\n",
    "product = pd.read_csv('C:/Users/alex/Desktop/Projet_6/données/product.csv')\n",
    "\n",
    "# Importation du fichier aide_alimentaire.csv\n",
    "transactions = pd.read_csv('C:/Users/alex/Desktop/Projet_6/données/transactions.csv')"
   ]
  },
  {
   "cell_type": "markdown",
   "id": "e50581dd",
   "metadata": {},
   "source": [
    "<h1 align=\"center\"> <font color='#880B03'>II. Création de la table de travail</font>  <h1>  "
   ]
  },
  {
   "cell_type": "markdown",
   "id": "5915414f",
   "metadata": {},
   "source": [
    "<h2 align=\"center\"> <font color='#880B03'>A) Nettoyage des tables</font>  <h2>     "
   ]
  },
  {
   "cell_type": "markdown",
   "id": "444d15bd",
   "metadata": {},
   "source": [
    "<h3 align=\"center\"> <font color='#880B03'>Nettoyage de la table product </font>  <h3>        "
   ]
  },
  {
   "cell_type": "code",
   "execution_count": 88,
   "id": "4c75a2ad",
   "metadata": {},
   "outputs": [
    {
     "data": {
      "text/plain": [
       "(3287, 3)"
      ]
     },
     "execution_count": 88,
     "metadata": {},
     "output_type": "execute_result"
    }
   ],
   "source": [
    "# Consulte le nombre de colonnes et lignes\n",
    "\n",
    "product.shape"
   ]
  },
  {
   "cell_type": "code",
   "execution_count": 89,
   "id": "f0430ada",
   "metadata": {},
   "outputs": [
    {
     "data": {
      "text/plain": [
       "id_prod     object\n",
       "price      float64\n",
       "categ        int64\n",
       "dtype: object"
      ]
     },
     "execution_count": 89,
     "metadata": {},
     "output_type": "execute_result"
    }
   ],
   "source": [
    "# La nature des données dans chacune des colonnes\n",
    "\n",
    "product.dtypes"
   ]
  },
  {
   "cell_type": "code",
   "execution_count": 90,
   "id": "3d5de528",
   "metadata": {
    "scrolled": true
   },
   "outputs": [
    {
     "data": {
      "text/html": [
       "<div>\n",
       "<style scoped>\n",
       "    .dataframe tbody tr th:only-of-type {\n",
       "        vertical-align: middle;\n",
       "    }\n",
       "\n",
       "    .dataframe tbody tr th {\n",
       "        vertical-align: top;\n",
       "    }\n",
       "\n",
       "    .dataframe thead th {\n",
       "        text-align: right;\n",
       "    }\n",
       "</style>\n",
       "<table border=\"1\" class=\"dataframe\">\n",
       "  <thead>\n",
       "    <tr style=\"text-align: right;\">\n",
       "      <th></th>\n",
       "      <th>price</th>\n",
       "      <th>categ</th>\n",
       "    </tr>\n",
       "  </thead>\n",
       "  <tbody>\n",
       "    <tr>\n",
       "      <th>count</th>\n",
       "      <td>3287.000000</td>\n",
       "      <td>3287.000000</td>\n",
       "    </tr>\n",
       "    <tr>\n",
       "      <th>mean</th>\n",
       "      <td>21.856641</td>\n",
       "      <td>0.370246</td>\n",
       "    </tr>\n",
       "    <tr>\n",
       "      <th>std</th>\n",
       "      <td>29.847908</td>\n",
       "      <td>0.615387</td>\n",
       "    </tr>\n",
       "    <tr>\n",
       "      <th>min</th>\n",
       "      <td>-1.000000</td>\n",
       "      <td>0.000000</td>\n",
       "    </tr>\n",
       "    <tr>\n",
       "      <th>25%</th>\n",
       "      <td>6.990000</td>\n",
       "      <td>0.000000</td>\n",
       "    </tr>\n",
       "    <tr>\n",
       "      <th>50%</th>\n",
       "      <td>13.060000</td>\n",
       "      <td>0.000000</td>\n",
       "    </tr>\n",
       "    <tr>\n",
       "      <th>75%</th>\n",
       "      <td>22.990000</td>\n",
       "      <td>1.000000</td>\n",
       "    </tr>\n",
       "    <tr>\n",
       "      <th>max</th>\n",
       "      <td>300.000000</td>\n",
       "      <td>2.000000</td>\n",
       "    </tr>\n",
       "  </tbody>\n",
       "</table>\n",
       "</div>"
      ],
      "text/plain": [
       "             price        categ\n",
       "count  3287.000000  3287.000000\n",
       "mean     21.856641     0.370246\n",
       "std      29.847908     0.615387\n",
       "min      -1.000000     0.000000\n",
       "25%       6.990000     0.000000\n",
       "50%      13.060000     0.000000\n",
       "75%      22.990000     1.000000\n",
       "max     300.000000     2.000000"
      ]
     },
     "execution_count": 90,
     "metadata": {},
     "output_type": "execute_result"
    }
   ],
   "source": [
    "# Vérification pas de valeurs abéranttes dans les min et max par exemple --> ici un prix negatif\n",
    "\n",
    "product.describe()"
   ]
  },
  {
   "cell_type": "code",
   "execution_count": 91,
   "id": "d2a926c4",
   "metadata": {},
   "outputs": [
    {
     "data": {
      "text/plain": [
       "id_prod    0\n",
       "price      0\n",
       "categ      0\n",
       "dtype: int64"
      ]
     },
     "execution_count": 91,
     "metadata": {},
     "output_type": "execute_result"
    }
   ],
   "source": [
    "# Vérification qu'il n'y ait pas de valeur nulle\n",
    "\n",
    "product.isna().sum()"
   ]
  },
  {
   "cell_type": "code",
   "execution_count": 92,
   "id": "6182f4d9",
   "metadata": {},
   "outputs": [
    {
     "data": {
      "text/plain": [
       "0"
      ]
     },
     "execution_count": 92,
     "metadata": {},
     "output_type": "execute_result"
    }
   ],
   "source": [
    "# Vérification qu'il n'y ait pas de doublons \n",
    "\n",
    "product.duplicated().sum()"
   ]
  },
  {
   "cell_type": "code",
   "execution_count": 93,
   "id": "40ebe563",
   "metadata": {
    "scrolled": false
   },
   "outputs": [
    {
     "data": {
      "text/html": [
       "<div>\n",
       "<style scoped>\n",
       "    .dataframe tbody tr th:only-of-type {\n",
       "        vertical-align: middle;\n",
       "    }\n",
       "\n",
       "    .dataframe tbody tr th {\n",
       "        vertical-align: top;\n",
       "    }\n",
       "\n",
       "    .dataframe thead th {\n",
       "        text-align: right;\n",
       "    }\n",
       "</style>\n",
       "<table border=\"1\" class=\"dataframe\">\n",
       "  <thead>\n",
       "    <tr style=\"text-align: right;\">\n",
       "      <th></th>\n",
       "      <th>id_prod</th>\n",
       "      <th>price</th>\n",
       "      <th>categ</th>\n",
       "    </tr>\n",
       "  </thead>\n",
       "  <tbody>\n",
       "    <tr>\n",
       "      <th>0</th>\n",
       "      <td>0_1421</td>\n",
       "      <td>19.99</td>\n",
       "      <td>0</td>\n",
       "    </tr>\n",
       "    <tr>\n",
       "      <th>1</th>\n",
       "      <td>0_1368</td>\n",
       "      <td>5.13</td>\n",
       "      <td>0</td>\n",
       "    </tr>\n",
       "    <tr>\n",
       "      <th>2</th>\n",
       "      <td>0_731</td>\n",
       "      <td>17.99</td>\n",
       "      <td>0</td>\n",
       "    </tr>\n",
       "    <tr>\n",
       "      <th>3</th>\n",
       "      <td>1_587</td>\n",
       "      <td>4.99</td>\n",
       "      <td>1</td>\n",
       "    </tr>\n",
       "    <tr>\n",
       "      <th>4</th>\n",
       "      <td>0_1507</td>\n",
       "      <td>3.99</td>\n",
       "      <td>0</td>\n",
       "    </tr>\n",
       "  </tbody>\n",
       "</table>\n",
       "</div>"
      ],
      "text/plain": [
       "  id_prod  price  categ\n",
       "0  0_1421  19.99      0\n",
       "1  0_1368   5.13      0\n",
       "2   0_731  17.99      0\n",
       "3   1_587   4.99      1\n",
       "4  0_1507   3.99      0"
      ]
     },
     "execution_count": 93,
     "metadata": {},
     "output_type": "execute_result"
    }
   ],
   "source": [
    "# Affichage des 5 premières lignes de la table\n",
    "\n",
    "product.head()"
   ]
  },
  {
   "cell_type": "raw",
   "id": "247bc683",
   "metadata": {},
   "source": [
    "On regarde les champs:"
   ]
  },
  {
   "cell_type": "code",
   "execution_count": 94,
   "id": "c647b866",
   "metadata": {},
   "outputs": [
    {
     "data": {
      "text/plain": [
       "0    2309\n",
       "1     739\n",
       "2     239\n",
       "Name: categ, dtype: int64"
      ]
     },
     "execution_count": 94,
     "metadata": {},
     "output_type": "execute_result"
    }
   ],
   "source": [
    "# Regarde le champs: categ --> 3 categories\n",
    "\n",
    "product['categ'].value_counts()"
   ]
  },
  {
   "cell_type": "code",
   "execution_count": 95,
   "id": "72a15876",
   "metadata": {},
   "outputs": [],
   "source": [
    "# Regarde le champs: id_prod --> on commence par le renommer pour garder la même syntaxe\n",
    "\n",
    "product = product.rename(columns={\"id_prod\": \"product_id\"})"
   ]
  },
  {
   "cell_type": "code",
   "execution_count": 96,
   "id": "44d348cb",
   "metadata": {},
   "outputs": [
    {
     "data": {
      "text/plain": [
       "0_1421    1\n",
       "0_2298    1\n",
       "0_870     1\n",
       "0_1785    1\n",
       "0_1876    1\n",
       "         ..\n",
       "0_2155    1\n",
       "0_1118    1\n",
       "2_12      1\n",
       "2_20      1\n",
       "0_1920    1\n",
       "Name: product_id, Length: 3287, dtype: int64"
      ]
     },
     "execution_count": 96,
     "metadata": {},
     "output_type": "execute_result"
    }
   ],
   "source": [
    "# Regarde le champs: id_prod --> on voit que dans l'ID nous avons la catégorie du livre\n",
    "\n",
    "product['product_id'].value_counts()"
   ]
  },
  {
   "cell_type": "code",
   "execution_count": 97,
   "id": "0238cba6",
   "metadata": {},
   "outputs": [
    {
     "data": {
      "text/plain": [
       "0    2308\n",
       "1     739\n",
       "2     239\n",
       "T       1\n",
       "Name: product_id_TEST, dtype: int64"
      ]
     },
     "execution_count": 97,
     "metadata": {},
     "output_type": "execute_result"
    }
   ],
   "source": [
    "# Teste pour voir si il y a plusieurs lettres dans ma colonne product ID\n",
    "# Fait une copy du DF product, créer une colonne TEST avec juste la première partie de l'id, on vérifie l'unicité, on voit qu'un T\n",
    "\n",
    "TEST_product = product.copy()\n",
    "TEST_product['product_id'] = TEST_product['product_id'].astype(str).str.split('_')\n",
    "TEST_product['product_id_TEST'] = product['product_id'].str[0]\n",
    "TEST_product['product_id_TEST'].value_counts()"
   ]
  },
  {
   "cell_type": "markdown",
   "id": "4372738a",
   "metadata": {},
   "source": [
    " > *Un produit de test répertorié.*"
   ]
  },
  {
   "cell_type": "code",
   "execution_count": 98,
   "id": "c74a8d25",
   "metadata": {},
   "outputs": [
    {
     "data": {
      "text/html": [
       "<div>\n",
       "<style scoped>\n",
       "    .dataframe tbody tr th:only-of-type {\n",
       "        vertical-align: middle;\n",
       "    }\n",
       "\n",
       "    .dataframe tbody tr th {\n",
       "        vertical-align: top;\n",
       "    }\n",
       "\n",
       "    .dataframe thead th {\n",
       "        text-align: right;\n",
       "    }\n",
       "</style>\n",
       "<table border=\"1\" class=\"dataframe\">\n",
       "  <thead>\n",
       "    <tr style=\"text-align: right;\">\n",
       "      <th></th>\n",
       "      <th>product_id</th>\n",
       "      <th>price</th>\n",
       "      <th>categ</th>\n",
       "      <th>product_id_TEST</th>\n",
       "    </tr>\n",
       "  </thead>\n",
       "  <tbody>\n",
       "    <tr>\n",
       "      <th>731</th>\n",
       "      <td>[T, 0]</td>\n",
       "      <td>-1.0</td>\n",
       "      <td>0</td>\n",
       "      <td>T</td>\n",
       "    </tr>\n",
       "  </tbody>\n",
       "</table>\n",
       "</div>"
      ],
      "text/plain": [
       "    product_id  price  categ product_id_TEST\n",
       "731     [T, 0]   -1.0      0               T"
      ]
     },
     "execution_count": 98,
     "metadata": {},
     "output_type": "execute_result"
    }
   ],
   "source": [
    "# On va séléctionner l'id avec un T comme Test, on voit qu'il a un prix négatif, on va regarder le champs prix\n",
    "\n",
    "TEST_product.loc[TEST_product['product_id_TEST'] =='T',:]"
   ]
  },
  {
   "cell_type": "code",
   "execution_count": 99,
   "id": "6c437965",
   "metadata": {},
   "outputs": [
    {
     "data": {
      "text/plain": [
       "count    3287.000000\n",
       "mean       21.856641\n",
       "std        29.847908\n",
       "min        -1.000000\n",
       "25%         6.990000\n",
       "50%        13.060000\n",
       "75%        22.990000\n",
       "max       300.000000\n",
       "Name: price, dtype: float64"
      ]
     },
     "execution_count": 99,
     "metadata": {},
     "output_type": "execute_result"
    }
   ],
   "source": [
    "# Regarde le champs: price --> prix negatif?\n",
    "\n",
    "product['price'].describe()"
   ]
  },
  {
   "cell_type": "code",
   "execution_count": 100,
   "id": "465c5fbb",
   "metadata": {},
   "outputs": [
    {
     "data": {
      "text/html": [
       "<div>\n",
       "<style scoped>\n",
       "    .dataframe tbody tr th:only-of-type {\n",
       "        vertical-align: middle;\n",
       "    }\n",
       "\n",
       "    .dataframe tbody tr th {\n",
       "        vertical-align: top;\n",
       "    }\n",
       "\n",
       "    .dataframe thead th {\n",
       "        text-align: right;\n",
       "    }\n",
       "</style>\n",
       "<table border=\"1\" class=\"dataframe\">\n",
       "  <thead>\n",
       "    <tr style=\"text-align: right;\">\n",
       "      <th></th>\n",
       "      <th>product_id</th>\n",
       "      <th>price</th>\n",
       "      <th>categ</th>\n",
       "    </tr>\n",
       "  </thead>\n",
       "  <tbody>\n",
       "    <tr>\n",
       "      <th>731</th>\n",
       "      <td>T_0</td>\n",
       "      <td>-1.0</td>\n",
       "      <td>0</td>\n",
       "    </tr>\n",
       "  </tbody>\n",
       "</table>\n",
       "</div>"
      ],
      "text/plain": [
       "    product_id  price  categ\n",
       "731        T_0   -1.0      0"
      ]
     },
     "execution_count": 100,
     "metadata": {},
     "output_type": "execute_result"
    }
   ],
   "source": [
    "# On a un prix negatif, celui de l'id T\n",
    "\n",
    "product.loc[product['price'] < 0,:]"
   ]
  },
  {
   "cell_type": "code",
   "execution_count": 101,
   "id": "94a7589e",
   "metadata": {},
   "outputs": [],
   "source": [
    "# On sauvegarde cette ligne avant de l'enlever de la table product\n",
    "\n",
    "S_product = product.loc[product['price'] < 0,:]"
   ]
  },
  {
   "cell_type": "code",
   "execution_count": 102,
   "id": "9475fcdc",
   "metadata": {},
   "outputs": [
    {
     "data": {
      "text/plain": [
       "(3286, 3)"
      ]
     },
     "execution_count": 102,
     "metadata": {},
     "output_type": "execute_result"
    }
   ],
   "source": [
    "# On enlève ce prix négatif du df + vérifie\n",
    "\n",
    "product = product.loc[product['price'] >= 0,:]\n",
    "product.shape"
   ]
  },
  {
   "cell_type": "code",
   "execution_count": 103,
   "id": "52e72d92",
   "metadata": {
    "scrolled": false
   },
   "outputs": [
    {
     "data": {
      "text/plain": [
       "3286"
      ]
     },
     "execution_count": 103,
     "metadata": {},
     "output_type": "execute_result"
    }
   ],
   "source": [
    "# Vérifie l'unicité de la clé\n",
    "\n",
    "product['product_id'].nunique()"
   ]
  },
  {
   "cell_type": "code",
   "execution_count": 104,
   "id": "6e086720",
   "metadata": {},
   "outputs": [],
   "source": [
    "# Création d'une liste de tous les product_id, qui servira plus tard\n",
    "\n",
    "List_product_product_id = product['product_id'].tolist()"
   ]
  },
  {
   "cell_type": "markdown",
   "id": "c862d866",
   "metadata": {},
   "source": [
    "<h3 align=\"center\"> <font color='#880B03'>Nettoyage de la table customer </font>  <h3>     "
   ]
  },
  {
   "cell_type": "code",
   "execution_count": 105,
   "id": "cbda43db",
   "metadata": {},
   "outputs": [
    {
     "data": {
      "text/plain": [
       "(8623, 3)"
      ]
     },
     "execution_count": 105,
     "metadata": {},
     "output_type": "execute_result"
    }
   ],
   "source": [
    "# Consulte le nombre de colonnes et lignes\n",
    "\n",
    "customer.shape"
   ]
  },
  {
   "cell_type": "code",
   "execution_count": 106,
   "id": "a9785b2d",
   "metadata": {},
   "outputs": [
    {
     "data": {
      "text/plain": [
       "client_id    object\n",
       "sex          object\n",
       "birth         int64\n",
       "dtype: object"
      ]
     },
     "execution_count": 106,
     "metadata": {},
     "output_type": "execute_result"
    }
   ],
   "source": [
    "# La nature des données dans chacune des colonnes\n",
    "\n",
    "customer.dtypes"
   ]
  },
  {
   "cell_type": "code",
   "execution_count": 107,
   "id": "4ad1aacf",
   "metadata": {},
   "outputs": [
    {
     "data": {
      "text/html": [
       "<div>\n",
       "<style scoped>\n",
       "    .dataframe tbody tr th:only-of-type {\n",
       "        vertical-align: middle;\n",
       "    }\n",
       "\n",
       "    .dataframe tbody tr th {\n",
       "        vertical-align: top;\n",
       "    }\n",
       "\n",
       "    .dataframe thead th {\n",
       "        text-align: right;\n",
       "    }\n",
       "</style>\n",
       "<table border=\"1\" class=\"dataframe\">\n",
       "  <thead>\n",
       "    <tr style=\"text-align: right;\">\n",
       "      <th></th>\n",
       "      <th>birth</th>\n",
       "    </tr>\n",
       "  </thead>\n",
       "  <tbody>\n",
       "    <tr>\n",
       "      <th>count</th>\n",
       "      <td>8623.000000</td>\n",
       "    </tr>\n",
       "    <tr>\n",
       "      <th>mean</th>\n",
       "      <td>1978.280877</td>\n",
       "    </tr>\n",
       "    <tr>\n",
       "      <th>std</th>\n",
       "      <td>16.919535</td>\n",
       "    </tr>\n",
       "    <tr>\n",
       "      <th>min</th>\n",
       "      <td>1929.000000</td>\n",
       "    </tr>\n",
       "    <tr>\n",
       "      <th>25%</th>\n",
       "      <td>1966.000000</td>\n",
       "    </tr>\n",
       "    <tr>\n",
       "      <th>50%</th>\n",
       "      <td>1979.000000</td>\n",
       "    </tr>\n",
       "    <tr>\n",
       "      <th>75%</th>\n",
       "      <td>1992.000000</td>\n",
       "    </tr>\n",
       "    <tr>\n",
       "      <th>max</th>\n",
       "      <td>2004.000000</td>\n",
       "    </tr>\n",
       "  </tbody>\n",
       "</table>\n",
       "</div>"
      ],
      "text/plain": [
       "             birth\n",
       "count  8623.000000\n",
       "mean   1978.280877\n",
       "std      16.919535\n",
       "min    1929.000000\n",
       "25%    1966.000000\n",
       "50%    1979.000000\n",
       "75%    1992.000000\n",
       "max    2004.000000"
      ]
     },
     "execution_count": 107,
     "metadata": {},
     "output_type": "execute_result"
    }
   ],
   "source": [
    "# Vérification pas de valeurs abéranttes dans les min et max par exemple\n",
    "\n",
    "customer.describe()"
   ]
  },
  {
   "cell_type": "code",
   "execution_count": 108,
   "id": "75e8e12b",
   "metadata": {},
   "outputs": [
    {
     "data": {
      "text/plain": [
       "client_id    0\n",
       "sex          0\n",
       "birth        0\n",
       "dtype: int64"
      ]
     },
     "execution_count": 108,
     "metadata": {},
     "output_type": "execute_result"
    }
   ],
   "source": [
    "# Vérification qu'il n'y ait pas de valeur nulle\n",
    "\n",
    "customer.isna().sum()"
   ]
  },
  {
   "cell_type": "code",
   "execution_count": 109,
   "id": "5a4c5572",
   "metadata": {},
   "outputs": [
    {
     "data": {
      "text/plain": [
       "0"
      ]
     },
     "execution_count": 109,
     "metadata": {},
     "output_type": "execute_result"
    }
   ],
   "source": [
    "# Vérification qu'il n'y ait pas de doublons \n",
    "\n",
    "customer.duplicated().sum()"
   ]
  },
  {
   "cell_type": "code",
   "execution_count": 110,
   "id": "4dd4ec16",
   "metadata": {},
   "outputs": [
    {
     "data": {
      "text/html": [
       "<div>\n",
       "<style scoped>\n",
       "    .dataframe tbody tr th:only-of-type {\n",
       "        vertical-align: middle;\n",
       "    }\n",
       "\n",
       "    .dataframe tbody tr th {\n",
       "        vertical-align: top;\n",
       "    }\n",
       "\n",
       "    .dataframe thead th {\n",
       "        text-align: right;\n",
       "    }\n",
       "</style>\n",
       "<table border=\"1\" class=\"dataframe\">\n",
       "  <thead>\n",
       "    <tr style=\"text-align: right;\">\n",
       "      <th></th>\n",
       "      <th>client_id</th>\n",
       "      <th>sex</th>\n",
       "      <th>birth</th>\n",
       "    </tr>\n",
       "  </thead>\n",
       "  <tbody>\n",
       "    <tr>\n",
       "      <th>0</th>\n",
       "      <td>c_4410</td>\n",
       "      <td>f</td>\n",
       "      <td>1967</td>\n",
       "    </tr>\n",
       "    <tr>\n",
       "      <th>1</th>\n",
       "      <td>c_7839</td>\n",
       "      <td>f</td>\n",
       "      <td>1975</td>\n",
       "    </tr>\n",
       "    <tr>\n",
       "      <th>2</th>\n",
       "      <td>c_1699</td>\n",
       "      <td>f</td>\n",
       "      <td>1984</td>\n",
       "    </tr>\n",
       "    <tr>\n",
       "      <th>3</th>\n",
       "      <td>c_5961</td>\n",
       "      <td>f</td>\n",
       "      <td>1962</td>\n",
       "    </tr>\n",
       "    <tr>\n",
       "      <th>4</th>\n",
       "      <td>c_5320</td>\n",
       "      <td>m</td>\n",
       "      <td>1943</td>\n",
       "    </tr>\n",
       "  </tbody>\n",
       "</table>\n",
       "</div>"
      ],
      "text/plain": [
       "  client_id sex  birth\n",
       "0    c_4410   f   1967\n",
       "1    c_7839   f   1975\n",
       "2    c_1699   f   1984\n",
       "3    c_5961   f   1962\n",
       "4    c_5320   m   1943"
      ]
     },
     "execution_count": 110,
     "metadata": {},
     "output_type": "execute_result"
    }
   ],
   "source": [
    "# Affichage des 5 premières lignes de la table\n",
    "\n",
    "customer.head()"
   ]
  },
  {
   "cell_type": "markdown",
   "id": "82b48632",
   "metadata": {},
   "source": [
    " > *On regarde les champs:*"
   ]
  },
  {
   "cell_type": "code",
   "execution_count": 111,
   "id": "8b75943f",
   "metadata": {},
   "outputs": [
    {
     "data": {
      "text/plain": [
       "f    4491\n",
       "m    4132\n",
       "Name: sex, dtype: int64"
      ]
     },
     "execution_count": 111,
     "metadata": {},
     "output_type": "execute_result"
    }
   ],
   "source": [
    "# Regarde le champs: sex --> 2 categories\n",
    "\n",
    "customer['sex'].value_counts()"
   ]
  },
  {
   "cell_type": "code",
   "execution_count": 112,
   "id": "551be630",
   "metadata": {},
   "outputs": [
    {
     "data": {
      "text/plain": [
       "2004    440\n",
       "1979    215\n",
       "1988    207\n",
       "1986    203\n",
       "1978    199\n",
       "       ... \n",
       "1933      8\n",
       "1932      6\n",
       "1931      4\n",
       "1930      4\n",
       "1929      3\n",
       "Name: birth, Length: 76, dtype: int64"
      ]
     },
     "execution_count": 112,
     "metadata": {},
     "output_type": "execute_result"
    }
   ],
   "source": [
    "# Regarde le champs: birth --> année de naissance du client / type entier\n",
    "\n",
    "customer['birth'].value_counts()"
   ]
  },
  {
   "cell_type": "markdown",
   "id": "60bbfa07",
   "metadata": {},
   "source": [
    " > *Ajout du champ \"Age\":*"
   ]
  },
  {
   "cell_type": "code",
   "execution_count": 113,
   "id": "3da610a9",
   "metadata": {
    "scrolled": true
   },
   "outputs": [],
   "source": [
    "# Création colonne age qui comptient l'age du client\n",
    "\n",
    "customer['age'] = pd.to_datetime('today').year - customer['birth']\n",
    "customer['age'] = customer['age'].astype(int)"
   ]
  },
  {
   "cell_type": "code",
   "execution_count": 114,
   "id": "fd52b6da",
   "metadata": {},
   "outputs": [
    {
     "data": {
      "text/plain": [
       "19    440\n",
       "44    215\n",
       "35    207\n",
       "37    203\n",
       "45    199\n",
       "     ... \n",
       "90      8\n",
       "91      6\n",
       "92      4\n",
       "93      4\n",
       "94      3\n",
       "Name: age, Length: 76, dtype: int64"
      ]
     },
     "execution_count": 114,
     "metadata": {},
     "output_type": "execute_result"
    }
   ],
   "source": [
    "customer['age'].value_counts()"
   ]
  },
  {
   "cell_type": "code",
   "execution_count": 115,
   "id": "541e93a5",
   "metadata": {},
   "outputs": [],
   "source": [
    "# Création d'une nouvelle colonne categorie_age: Par tranche d'âge de 10 ans.\n",
    "\n",
    "customer['categorie_age'] = pd.cut(customer['age'],\n",
    "                               bins=[9,19,29,39,49,59,69,79,89,99],\n",
    "                               labels=['tenties', 'twenties', 'thirties', 'fourties','fifties','sixties','seventies', 'eighties', 'nineties'])"
   ]
  },
  {
   "cell_type": "code",
   "execution_count": 116,
   "id": "02ddf987",
   "metadata": {},
   "outputs": [],
   "source": [
    "# Transformation en category \n",
    "\n",
    "customer['categorie_age'] = customer['categorie_age'].astype('category')"
   ]
  },
  {
   "cell_type": "code",
   "execution_count": 117,
   "id": "194b827e",
   "metadata": {},
   "outputs": [
    {
     "data": {
      "text/plain": [
       "c_4410    1\n",
       "c_5441    1\n",
       "c_5140    1\n",
       "c_7935    1\n",
       "c_7514    1\n",
       "         ..\n",
       "c_2797    1\n",
       "c_818     1\n",
       "c_3393    1\n",
       "c_1497    1\n",
       "c_84      1\n",
       "Name: client_id, Length: 8623, dtype: int64"
      ]
     },
     "execution_count": 117,
     "metadata": {},
     "output_type": "execute_result"
    }
   ],
   "source": [
    "# Regarde le champs: client_id --> On va séparer la premère et deuxième partie juste pour vérifier les lettres et numeros\n",
    "\n",
    "customer['client_id'].value_counts()"
   ]
  },
  {
   "cell_type": "markdown",
   "id": "860ca6b7",
   "metadata": {},
   "source": [
    " > *Deux clients tests sont répertoriés.*"
   ]
  },
  {
   "cell_type": "code",
   "execution_count": 118,
   "id": "e4e99f33",
   "metadata": {},
   "outputs": [
    {
     "data": {
      "text/plain": [
       "c     8621\n",
       "ct       2\n",
       "Name: client_id_TEST, dtype: int64"
      ]
     },
     "execution_count": 118,
     "metadata": {},
     "output_type": "execute_result"
    }
   ],
   "source": [
    "# Teste pour voir si il y a plusieurs lettres dans ma colonne client ID\n",
    "# Fait une copy du DF customer, créer une colonne TEST avec juste la première partie de l'id, on vérifie l'unicité, on voit 2 CT\n",
    "\n",
    "TEST_customer = customer.copy()\n",
    "TEST_customer['client_id'] = TEST_customer['client_id'].astype(str).str.split('_')\n",
    "TEST_customer['client_id_TEST'] = TEST_customer['client_id'].str[0]\n",
    "TEST_customer['client_id_TEST'].value_counts()"
   ]
  },
  {
   "cell_type": "code",
   "execution_count": 119,
   "id": "d237369b",
   "metadata": {},
   "outputs": [
    {
     "data": {
      "text/html": [
       "<div>\n",
       "<style scoped>\n",
       "    .dataframe tbody tr th:only-of-type {\n",
       "        vertical-align: middle;\n",
       "    }\n",
       "\n",
       "    .dataframe tbody tr th {\n",
       "        vertical-align: top;\n",
       "    }\n",
       "\n",
       "    .dataframe thead th {\n",
       "        text-align: right;\n",
       "    }\n",
       "</style>\n",
       "<table border=\"1\" class=\"dataframe\">\n",
       "  <thead>\n",
       "    <tr style=\"text-align: right;\">\n",
       "      <th></th>\n",
       "      <th>client_id</th>\n",
       "      <th>sex</th>\n",
       "      <th>birth</th>\n",
       "      <th>age</th>\n",
       "      <th>categorie_age</th>\n",
       "      <th>client_id_TEST</th>\n",
       "    </tr>\n",
       "  </thead>\n",
       "  <tbody>\n",
       "    <tr>\n",
       "      <th>2735</th>\n",
       "      <td>[ct, 0]</td>\n",
       "      <td>f</td>\n",
       "      <td>2001</td>\n",
       "      <td>22</td>\n",
       "      <td>twenties</td>\n",
       "      <td>ct</td>\n",
       "    </tr>\n",
       "    <tr>\n",
       "      <th>8494</th>\n",
       "      <td>[ct, 1]</td>\n",
       "      <td>m</td>\n",
       "      <td>2001</td>\n",
       "      <td>22</td>\n",
       "      <td>twenties</td>\n",
       "      <td>ct</td>\n",
       "    </tr>\n",
       "  </tbody>\n",
       "</table>\n",
       "</div>"
      ],
      "text/plain": [
       "     client_id sex  birth  age categorie_age client_id_TEST\n",
       "2735   [ct, 0]   f   2001   22      twenties             ct\n",
       "8494   [ct, 1]   m   2001   22      twenties             ct"
      ]
     },
     "execution_count": 119,
     "metadata": {},
     "output_type": "execute_result"
    }
   ],
   "source": [
    "# On va séléctionner l'id avec un T comme Test, on voit qu'il a un prix négatif, on va regarder le champs prix\n",
    "\n",
    "TEST_customer.loc[TEST_customer['client_id_TEST'] =='ct',:]"
   ]
  },
  {
   "cell_type": "code",
   "execution_count": 120,
   "id": "62c9d2b0",
   "metadata": {},
   "outputs": [
    {
     "data": {
      "text/plain": [
       "c_4410    1\n",
       "c_5441    1\n",
       "c_5140    1\n",
       "c_7935    1\n",
       "c_7514    1\n",
       "         ..\n",
       "c_2797    1\n",
       "c_818     1\n",
       "c_3393    1\n",
       "c_1497    1\n",
       "c_84      1\n",
       "Name: client_id, Length: 8623, dtype: int64"
      ]
     },
     "execution_count": 120,
     "metadata": {},
     "output_type": "execute_result"
    }
   ],
   "source": [
    "customer['client_id'].value_counts()"
   ]
  },
  {
   "cell_type": "code",
   "execution_count": 121,
   "id": "4055a9ea",
   "metadata": {},
   "outputs": [],
   "source": [
    "# On sauvegarde ces deux lignes avant de les enlever de la table customer\n",
    "\n",
    "S_customer = customer[customer['client_id'].str.contains('ct')]"
   ]
  },
  {
   "cell_type": "code",
   "execution_count": 122,
   "id": "d2ed6377",
   "metadata": {},
   "outputs": [],
   "source": [
    "# On enlève ces deux lignes du DF customer\n",
    "\n",
    "customer = customer[~customer['client_id'].str.contains('ct')]"
   ]
  },
  {
   "cell_type": "code",
   "execution_count": 123,
   "id": "97490e8e",
   "metadata": {},
   "outputs": [
    {
     "data": {
      "text/plain": [
       "8621"
      ]
     },
     "execution_count": 123,
     "metadata": {},
     "output_type": "execute_result"
    }
   ],
   "source": [
    "# Vérifie l'unicité de la clé\n",
    "\n",
    "customer['client_id'].nunique()"
   ]
  },
  {
   "cell_type": "code",
   "execution_count": 124,
   "id": "be0764ec",
   "metadata": {},
   "outputs": [
    {
     "data": {
      "text/plain": [
       "(8621,)"
      ]
     },
     "execution_count": 124,
     "metadata": {},
     "output_type": "execute_result"
    }
   ],
   "source": [
    "customer['client_id'].shape"
   ]
  },
  {
   "cell_type": "code",
   "execution_count": 125,
   "id": "2d40437f",
   "metadata": {},
   "outputs": [],
   "source": [
    "# Création d'une liste de tous les client_id, qui servira plus tard\n",
    "\n",
    "List_customer_client_id = customer['client_id'].tolist()"
   ]
  },
  {
   "cell_type": "markdown",
   "id": "c3b3da41",
   "metadata": {},
   "source": [
    "<h3 align=\"center\"> <font color='#880B03'>Nettoyage de la table transactions </font>  <h3>      "
   ]
  },
  {
   "cell_type": "code",
   "execution_count": 126,
   "id": "a09b21c0",
   "metadata": {},
   "outputs": [
    {
     "data": {
      "text/plain": [
       "(679532, 4)"
      ]
     },
     "execution_count": 126,
     "metadata": {},
     "output_type": "execute_result"
    }
   ],
   "source": [
    "# Consulte le nombre de colonnes et lignes\n",
    "\n",
    "transactions.shape"
   ]
  },
  {
   "cell_type": "code",
   "execution_count": 127,
   "id": "c61ac4c9",
   "metadata": {},
   "outputs": [
    {
     "data": {
      "text/plain": [
       "id_prod       object\n",
       "date          object\n",
       "session_id    object\n",
       "client_id     object\n",
       "dtype: object"
      ]
     },
     "execution_count": 127,
     "metadata": {},
     "output_type": "execute_result"
    }
   ],
   "source": [
    "# La nature des données dans chacune des colonnes\n",
    "\n",
    "transactions.dtypes"
   ]
  },
  {
   "cell_type": "code",
   "execution_count": 128,
   "id": "41ce3ccf",
   "metadata": {},
   "outputs": [
    {
     "data": {
      "text/html": [
       "<div>\n",
       "<style scoped>\n",
       "    .dataframe tbody tr th:only-of-type {\n",
       "        vertical-align: middle;\n",
       "    }\n",
       "\n",
       "    .dataframe tbody tr th {\n",
       "        vertical-align: top;\n",
       "    }\n",
       "\n",
       "    .dataframe thead th {\n",
       "        text-align: right;\n",
       "    }\n",
       "</style>\n",
       "<table border=\"1\" class=\"dataframe\">\n",
       "  <thead>\n",
       "    <tr style=\"text-align: right;\">\n",
       "      <th></th>\n",
       "      <th>id_prod</th>\n",
       "      <th>date</th>\n",
       "      <th>session_id</th>\n",
       "      <th>client_id</th>\n",
       "    </tr>\n",
       "  </thead>\n",
       "  <tbody>\n",
       "    <tr>\n",
       "      <th>count</th>\n",
       "      <td>679532</td>\n",
       "      <td>679532</td>\n",
       "      <td>679532</td>\n",
       "      <td>679532</td>\n",
       "    </tr>\n",
       "    <tr>\n",
       "      <th>unique</th>\n",
       "      <td>3267</td>\n",
       "      <td>679371</td>\n",
       "      <td>342316</td>\n",
       "      <td>8602</td>\n",
       "    </tr>\n",
       "    <tr>\n",
       "      <th>top</th>\n",
       "      <td>1_369</td>\n",
       "      <td>test_2021-03-01 02:30:02.237413</td>\n",
       "      <td>s_0</td>\n",
       "      <td>c_1609</td>\n",
       "    </tr>\n",
       "    <tr>\n",
       "      <th>freq</th>\n",
       "      <td>2252</td>\n",
       "      <td>13</td>\n",
       "      <td>200</td>\n",
       "      <td>25488</td>\n",
       "    </tr>\n",
       "  </tbody>\n",
       "</table>\n",
       "</div>"
      ],
      "text/plain": [
       "       id_prod                             date session_id client_id\n",
       "count   679532                           679532     679532    679532\n",
       "unique    3267                           679371     342316      8602\n",
       "top      1_369  test_2021-03-01 02:30:02.237413        s_0    c_1609\n",
       "freq      2252                               13        200     25488"
      ]
     },
     "execution_count": 128,
     "metadata": {},
     "output_type": "execute_result"
    }
   ],
   "source": [
    "# Vérification pas de valeurs abéranttes dans les min et max par exemple\n",
    "\n",
    "transactions.describe()"
   ]
  },
  {
   "cell_type": "code",
   "execution_count": 129,
   "id": "41de1b10",
   "metadata": {},
   "outputs": [
    {
     "data": {
      "text/plain": [
       "id_prod       0\n",
       "date          0\n",
       "session_id    0\n",
       "client_id     0\n",
       "dtype: int64"
      ]
     },
     "execution_count": 129,
     "metadata": {},
     "output_type": "execute_result"
    }
   ],
   "source": [
    "# Vérification qu'il n'y ait pas de valeur nulle\n",
    "\n",
    "transactions.isna().sum()"
   ]
  },
  {
   "cell_type": "code",
   "execution_count": 130,
   "id": "f78e9500",
   "metadata": {},
   "outputs": [
    {
     "data": {
      "text/plain": [
       "126"
      ]
     },
     "execution_count": 130,
     "metadata": {},
     "output_type": "execute_result"
    }
   ],
   "source": [
    "#Vérification qu'il n'y ait pas de doublons, ici 126 regardons les champs et revenons dessus après\n",
    "\n",
    "transactions.duplicated().sum()"
   ]
  },
  {
   "cell_type": "raw",
   "id": "98e2a379",
   "metadata": {},
   "source": [
    "On regarde les champs:"
   ]
  },
  {
   "cell_type": "code",
   "execution_count": 131,
   "id": "ec242c3f",
   "metadata": {},
   "outputs": [
    {
     "data": {
      "text/plain": [
       "'ct_1'"
      ]
     },
     "execution_count": 131,
     "metadata": {},
     "output_type": "execute_result"
    }
   ],
   "source": [
    "# Comme pour le DF customer, on a des clients id 'ct'\n",
    "\n",
    "transactions['client_id'].max()"
   ]
  },
  {
   "cell_type": "markdown",
   "id": "4ea10310",
   "metadata": {},
   "source": [
    " > *200 transactions test sont répertoriés.*"
   ]
  },
  {
   "cell_type": "code",
   "execution_count": 132,
   "id": "98e3c49e",
   "metadata": {},
   "outputs": [
    {
     "data": {
      "text/plain": [
       "c     679332\n",
       "ct       200\n",
       "Name: client_id_TEST, dtype: int64"
      ]
     },
     "execution_count": 132,
     "metadata": {},
     "output_type": "execute_result"
    }
   ],
   "source": [
    "# Teste pour voir si il y a plusieurs lettres dans ma colonne client ID\n",
    "# Fait une copy du DF transactions, créer une colonne TEST avec juste la première partie de l'id, on vérifie l'unicité, on voit 200 CT\n",
    "\n",
    "TEST_transactions = transactions.copy()\n",
    "TEST_transactions['client_id'] = TEST_transactions['client_id'].astype(str).str.split('_')\n",
    "TEST_transactions['client_id_TEST'] = TEST_transactions['client_id'].str[0]\n",
    "TEST_transactions['client_id_TEST'].value_counts()"
   ]
  },
  {
   "cell_type": "code",
   "execution_count": 133,
   "id": "ccbe400d",
   "metadata": {},
   "outputs": [
    {
     "data": {
      "text/html": [
       "<div>\n",
       "<style scoped>\n",
       "    .dataframe tbody tr th:only-of-type {\n",
       "        vertical-align: middle;\n",
       "    }\n",
       "\n",
       "    .dataframe tbody tr th {\n",
       "        vertical-align: top;\n",
       "    }\n",
       "\n",
       "    .dataframe thead th {\n",
       "        text-align: right;\n",
       "    }\n",
       "</style>\n",
       "<table border=\"1\" class=\"dataframe\">\n",
       "  <thead>\n",
       "    <tr style=\"text-align: right;\">\n",
       "      <th></th>\n",
       "      <th>id_prod</th>\n",
       "      <th>date</th>\n",
       "      <th>session_id</th>\n",
       "      <th>client_id</th>\n",
       "    </tr>\n",
       "  </thead>\n",
       "  <tbody>\n",
       "    <tr>\n",
       "      <th>3019</th>\n",
       "      <td>T_0</td>\n",
       "      <td>test_2021-03-01 02:30:02.237419</td>\n",
       "      <td>s_0</td>\n",
       "      <td>ct_0</td>\n",
       "    </tr>\n",
       "    <tr>\n",
       "      <th>5138</th>\n",
       "      <td>T_0</td>\n",
       "      <td>test_2021-03-01 02:30:02.237425</td>\n",
       "      <td>s_0</td>\n",
       "      <td>ct_0</td>\n",
       "    </tr>\n",
       "    <tr>\n",
       "      <th>9668</th>\n",
       "      <td>T_0</td>\n",
       "      <td>test_2021-03-01 02:30:02.237437</td>\n",
       "      <td>s_0</td>\n",
       "      <td>ct_1</td>\n",
       "    </tr>\n",
       "    <tr>\n",
       "      <th>10728</th>\n",
       "      <td>T_0</td>\n",
       "      <td>test_2021-03-01 02:30:02.237436</td>\n",
       "      <td>s_0</td>\n",
       "      <td>ct_0</td>\n",
       "    </tr>\n",
       "    <tr>\n",
       "      <th>15292</th>\n",
       "      <td>T_0</td>\n",
       "      <td>test_2021-03-01 02:30:02.237430</td>\n",
       "      <td>s_0</td>\n",
       "      <td>ct_0</td>\n",
       "    </tr>\n",
       "    <tr>\n",
       "      <th>...</th>\n",
       "      <td>...</td>\n",
       "      <td>...</td>\n",
       "      <td>...</td>\n",
       "      <td>...</td>\n",
       "    </tr>\n",
       "    <tr>\n",
       "      <th>657830</th>\n",
       "      <td>T_0</td>\n",
       "      <td>test_2021-03-01 02:30:02.237417</td>\n",
       "      <td>s_0</td>\n",
       "      <td>ct_0</td>\n",
       "    </tr>\n",
       "    <tr>\n",
       "      <th>662081</th>\n",
       "      <td>T_0</td>\n",
       "      <td>test_2021-03-01 02:30:02.237427</td>\n",
       "      <td>s_0</td>\n",
       "      <td>ct_1</td>\n",
       "    </tr>\n",
       "    <tr>\n",
       "      <th>670680</th>\n",
       "      <td>T_0</td>\n",
       "      <td>test_2021-03-01 02:30:02.237449</td>\n",
       "      <td>s_0</td>\n",
       "      <td>ct_1</td>\n",
       "    </tr>\n",
       "    <tr>\n",
       "      <th>671647</th>\n",
       "      <td>T_0</td>\n",
       "      <td>test_2021-03-01 02:30:02.237424</td>\n",
       "      <td>s_0</td>\n",
       "      <td>ct_1</td>\n",
       "    </tr>\n",
       "    <tr>\n",
       "      <th>679180</th>\n",
       "      <td>T_0</td>\n",
       "      <td>test_2021-03-01 02:30:02.237425</td>\n",
       "      <td>s_0</td>\n",
       "      <td>ct_1</td>\n",
       "    </tr>\n",
       "  </tbody>\n",
       "</table>\n",
       "<p>200 rows × 4 columns</p>\n",
       "</div>"
      ],
      "text/plain": [
       "       id_prod                             date session_id client_id\n",
       "3019       T_0  test_2021-03-01 02:30:02.237419        s_0      ct_0\n",
       "5138       T_0  test_2021-03-01 02:30:02.237425        s_0      ct_0\n",
       "9668       T_0  test_2021-03-01 02:30:02.237437        s_0      ct_1\n",
       "10728      T_0  test_2021-03-01 02:30:02.237436        s_0      ct_0\n",
       "15292      T_0  test_2021-03-01 02:30:02.237430        s_0      ct_0\n",
       "...        ...                              ...        ...       ...\n",
       "657830     T_0  test_2021-03-01 02:30:02.237417        s_0      ct_0\n",
       "662081     T_0  test_2021-03-01 02:30:02.237427        s_0      ct_1\n",
       "670680     T_0  test_2021-03-01 02:30:02.237449        s_0      ct_1\n",
       "671647     T_0  test_2021-03-01 02:30:02.237424        s_0      ct_1\n",
       "679180     T_0  test_2021-03-01 02:30:02.237425        s_0      ct_1\n",
       "\n",
       "[200 rows x 4 columns]"
      ]
     },
     "execution_count": 133,
     "metadata": {},
     "output_type": "execute_result"
    }
   ],
   "source": [
    "# On affiche les 200 client id qui contiennent des données de test\n",
    "\n",
    "transactions[transactions['client_id'].str.contains('ct')]"
   ]
  },
  {
   "cell_type": "code",
   "execution_count": 134,
   "id": "7df66f43",
   "metadata": {},
   "outputs": [],
   "source": [
    "# On sauvegarde ces deux lignes avant de l'enlever de la table customer\n",
    "\n",
    "S_transactions = transactions[transactions['client_id'].str.contains('ct')]"
   ]
  },
  {
   "cell_type": "code",
   "execution_count": 135,
   "id": "43b01128",
   "metadata": {},
   "outputs": [],
   "source": [
    "# On enlève ces deux lignes du DF customer\n",
    "\n",
    "transactions = transactions[~transactions['client_id'].str.contains('ct')]"
   ]
  },
  {
   "cell_type": "code",
   "execution_count": 136,
   "id": "5bbb7072",
   "metadata": {},
   "outputs": [
    {
     "data": {
      "text/plain": [
       "8600"
      ]
     },
     "execution_count": 136,
     "metadata": {},
     "output_type": "execute_result"
    }
   ],
   "source": [
    "# Vérifie l'unicité de la clé\n",
    "\n",
    "transactions['client_id'].nunique()"
   ]
  },
  {
   "cell_type": "markdown",
   "id": "1c8a929d",
   "metadata": {},
   "source": [
    " > *Préparation de la future jointure avec la table customer.*"
   ]
  },
  {
   "cell_type": "markdown",
   "id": "8509bec6",
   "metadata": {},
   "source": [
    " > *Préparation entre la table client et la table transaction:*"
   ]
  },
  {
   "cell_type": "code",
   "execution_count": 137,
   "id": "ec4d189a",
   "metadata": {},
   "outputs": [
    {
     "data": {
      "text/plain": [
       "8621"
      ]
     },
     "execution_count": 137,
     "metadata": {},
     "output_type": "execute_result"
    }
   ],
   "source": [
    "# Pour rappel customer n'a pas le meme nombre d'id client, normal car tous les clients n'ont pas formé passé de transactions\n",
    "\n",
    "customer['client_id'].nunique()"
   ]
  },
  {
   "cell_type": "code",
   "execution_count": 138,
   "id": "52fb6ae4",
   "metadata": {},
   "outputs": [],
   "source": [
    "# # Création d'une liste de tous les client_id de la table transaction pour la comparer avec la liste de customer\n",
    "\n",
    "List_transactions_client_id = transactions['client_id'].tolist()"
   ]
  },
  {
   "cell_type": "code",
   "execution_count": 139,
   "id": "cfbe8c14",
   "metadata": {},
   "outputs": [],
   "source": [
    "# Récupère les valeurs uniques\n",
    "\n",
    "List_transactions_client_id = np.unique(List_transactions_client_id).tolist()"
   ]
  },
  {
   "cell_type": "code",
   "execution_count": 140,
   "id": "41bb350e",
   "metadata": {},
   "outputs": [
    {
     "data": {
      "text/plain": [
       "8600"
      ]
     },
     "execution_count": 140,
     "metadata": {},
     "output_type": "execute_result"
    }
   ],
   "source": [
    "# Vérifie la longueur de la liste qui con,tient que des valeurs unique\n",
    "\n",
    "len(List_transactions_client_id)"
   ]
  },
  {
   "cell_type": "code",
   "execution_count": 141,
   "id": "a7727663",
   "metadata": {},
   "outputs": [],
   "source": [
    "# Vérifie les listes entre le df client et celui-ci, pour se demander si les id client sont les mêmes.\n",
    "\n",
    "List_PasCorrespondance_customer = [x for x in List_transactions_client_id + List_customer_client_id if x not in List_transactions_client_id or x not in List_customer_client_id]"
   ]
  },
  {
   "cell_type": "code",
   "execution_count": 142,
   "id": "855b2c16",
   "metadata": {},
   "outputs": [
    {
     "data": {
      "text/plain": [
       "21"
      ]
     },
     "execution_count": 142,
     "metadata": {},
     "output_type": "execute_result"
    }
   ],
   "source": [
    "# 21 ID qui ne correpondent pas, normal vu que 21 ID de plus pour la table customer\n",
    "len(List_PasCorrespondance_customer)"
   ]
  },
  {
   "cell_type": "code",
   "execution_count": 143,
   "id": "6290d2ea",
   "metadata": {},
   "outputs": [
    {
     "data": {
      "text/html": [
       "<div>\n",
       "<style scoped>\n",
       "    .dataframe tbody tr th:only-of-type {\n",
       "        vertical-align: middle;\n",
       "    }\n",
       "\n",
       "    .dataframe tbody tr th {\n",
       "        vertical-align: top;\n",
       "    }\n",
       "\n",
       "    .dataframe thead th {\n",
       "        text-align: right;\n",
       "    }\n",
       "</style>\n",
       "<table border=\"1\" class=\"dataframe\">\n",
       "  <thead>\n",
       "    <tr style=\"text-align: right;\">\n",
       "      <th></th>\n",
       "      <th>client_id</th>\n",
       "      <th>sex</th>\n",
       "      <th>birth</th>\n",
       "      <th>age</th>\n",
       "      <th>categorie_age</th>\n",
       "    </tr>\n",
       "  </thead>\n",
       "  <tbody>\n",
       "    <tr>\n",
       "      <th>801</th>\n",
       "      <td>c_8253</td>\n",
       "      <td>f</td>\n",
       "      <td>2001</td>\n",
       "      <td>22</td>\n",
       "      <td>twenties</td>\n",
       "    </tr>\n",
       "    <tr>\n",
       "      <th>2483</th>\n",
       "      <td>c_3789</td>\n",
       "      <td>f</td>\n",
       "      <td>1997</td>\n",
       "      <td>26</td>\n",
       "      <td>twenties</td>\n",
       "    </tr>\n",
       "    <tr>\n",
       "      <th>2734</th>\n",
       "      <td>c_4406</td>\n",
       "      <td>f</td>\n",
       "      <td>1998</td>\n",
       "      <td>25</td>\n",
       "      <td>twenties</td>\n",
       "    </tr>\n",
       "    <tr>\n",
       "      <th>2769</th>\n",
       "      <td>c_2706</td>\n",
       "      <td>f</td>\n",
       "      <td>1967</td>\n",
       "      <td>56</td>\n",
       "      <td>fifties</td>\n",
       "    </tr>\n",
       "    <tr>\n",
       "      <th>2851</th>\n",
       "      <td>c_3443</td>\n",
       "      <td>m</td>\n",
       "      <td>1959</td>\n",
       "      <td>64</td>\n",
       "      <td>sixties</td>\n",
       "    </tr>\n",
       "    <tr>\n",
       "      <th>3179</th>\n",
       "      <td>c_4447</td>\n",
       "      <td>m</td>\n",
       "      <td>1956</td>\n",
       "      <td>67</td>\n",
       "      <td>sixties</td>\n",
       "    </tr>\n",
       "    <tr>\n",
       "      <th>3190</th>\n",
       "      <td>c_3017</td>\n",
       "      <td>f</td>\n",
       "      <td>1992</td>\n",
       "      <td>31</td>\n",
       "      <td>thirties</td>\n",
       "    </tr>\n",
       "    <tr>\n",
       "      <th>3334</th>\n",
       "      <td>c_4086</td>\n",
       "      <td>f</td>\n",
       "      <td>1992</td>\n",
       "      <td>31</td>\n",
       "      <td>thirties</td>\n",
       "    </tr>\n",
       "    <tr>\n",
       "      <th>3721</th>\n",
       "      <td>c_6930</td>\n",
       "      <td>m</td>\n",
       "      <td>2004</td>\n",
       "      <td>19</td>\n",
       "      <td>tenties</td>\n",
       "    </tr>\n",
       "    <tr>\n",
       "      <th>3821</th>\n",
       "      <td>c_4358</td>\n",
       "      <td>m</td>\n",
       "      <td>1999</td>\n",
       "      <td>24</td>\n",
       "      <td>twenties</td>\n",
       "    </tr>\n",
       "    <tr>\n",
       "      <th>4724</th>\n",
       "      <td>c_8381</td>\n",
       "      <td>f</td>\n",
       "      <td>1965</td>\n",
       "      <td>58</td>\n",
       "      <td>fifties</td>\n",
       "    </tr>\n",
       "    <tr>\n",
       "      <th>4791</th>\n",
       "      <td>c_1223</td>\n",
       "      <td>m</td>\n",
       "      <td>1963</td>\n",
       "      <td>60</td>\n",
       "      <td>sixties</td>\n",
       "    </tr>\n",
       "    <tr>\n",
       "      <th>6112</th>\n",
       "      <td>c_6862</td>\n",
       "      <td>f</td>\n",
       "      <td>2002</td>\n",
       "      <td>21</td>\n",
       "      <td>twenties</td>\n",
       "    </tr>\n",
       "    <tr>\n",
       "      <th>6208</th>\n",
       "      <td>c_5245</td>\n",
       "      <td>f</td>\n",
       "      <td>2004</td>\n",
       "      <td>19</td>\n",
       "      <td>tenties</td>\n",
       "    </tr>\n",
       "    <tr>\n",
       "      <th>6338</th>\n",
       "      <td>c_5223</td>\n",
       "      <td>m</td>\n",
       "      <td>2003</td>\n",
       "      <td>20</td>\n",
       "      <td>twenties</td>\n",
       "    </tr>\n",
       "    <tr>\n",
       "      <th>6471</th>\n",
       "      <td>c_6735</td>\n",
       "      <td>m</td>\n",
       "      <td>2004</td>\n",
       "      <td>19</td>\n",
       "      <td>tenties</td>\n",
       "    </tr>\n",
       "    <tr>\n",
       "      <th>6585</th>\n",
       "      <td>c_862</td>\n",
       "      <td>f</td>\n",
       "      <td>1956</td>\n",
       "      <td>67</td>\n",
       "      <td>sixties</td>\n",
       "    </tr>\n",
       "    <tr>\n",
       "      <th>6828</th>\n",
       "      <td>c_7584</td>\n",
       "      <td>f</td>\n",
       "      <td>1960</td>\n",
       "      <td>63</td>\n",
       "      <td>sixties</td>\n",
       "    </tr>\n",
       "    <tr>\n",
       "      <th>7790</th>\n",
       "      <td>c_90</td>\n",
       "      <td>m</td>\n",
       "      <td>2001</td>\n",
       "      <td>22</td>\n",
       "      <td>twenties</td>\n",
       "    </tr>\n",
       "    <tr>\n",
       "      <th>7819</th>\n",
       "      <td>c_587</td>\n",
       "      <td>m</td>\n",
       "      <td>1993</td>\n",
       "      <td>30</td>\n",
       "      <td>thirties</td>\n",
       "    </tr>\n",
       "    <tr>\n",
       "      <th>8536</th>\n",
       "      <td>c_3526</td>\n",
       "      <td>m</td>\n",
       "      <td>1956</td>\n",
       "      <td>67</td>\n",
       "      <td>sixties</td>\n",
       "    </tr>\n",
       "  </tbody>\n",
       "</table>\n",
       "</div>"
      ],
      "text/plain": [
       "     client_id sex  birth  age categorie_age\n",
       "801     c_8253   f   2001   22      twenties\n",
       "2483    c_3789   f   1997   26      twenties\n",
       "2734    c_4406   f   1998   25      twenties\n",
       "2769    c_2706   f   1967   56       fifties\n",
       "2851    c_3443   m   1959   64       sixties\n",
       "3179    c_4447   m   1956   67       sixties\n",
       "3190    c_3017   f   1992   31      thirties\n",
       "3334    c_4086   f   1992   31      thirties\n",
       "3721    c_6930   m   2004   19       tenties\n",
       "3821    c_4358   m   1999   24      twenties\n",
       "4724    c_8381   f   1965   58       fifties\n",
       "4791    c_1223   m   1963   60       sixties\n",
       "6112    c_6862   f   2002   21      twenties\n",
       "6208    c_5245   f   2004   19       tenties\n",
       "6338    c_5223   m   2003   20      twenties\n",
       "6471    c_6735   m   2004   19       tenties\n",
       "6585     c_862   f   1956   67       sixties\n",
       "6828    c_7584   f   1960   63       sixties\n",
       "7790      c_90   m   2001   22      twenties\n",
       "7819     c_587   m   1993   30      thirties\n",
       "8536    c_3526   m   1956   67       sixties"
      ]
     },
     "execution_count": 143,
     "metadata": {},
     "output_type": "execute_result"
    }
   ],
   "source": [
    "# On regarde combien des 21 ID pas correspondant avec la table transactions appartient à la table customer, ici tous\n",
    "# créer un client sans consommation\n",
    "\n",
    "customer.loc[customer['client_id'].isin(List_PasCorrespondance_customer), :]"
   ]
  },
  {
   "cell_type": "code",
   "execution_count": 144,
   "id": "6da6a641",
   "metadata": {},
   "outputs": [
    {
     "data": {
      "text/html": [
       "<div>\n",
       "<style scoped>\n",
       "    .dataframe tbody tr th:only-of-type {\n",
       "        vertical-align: middle;\n",
       "    }\n",
       "\n",
       "    .dataframe tbody tr th {\n",
       "        vertical-align: top;\n",
       "    }\n",
       "\n",
       "    .dataframe thead th {\n",
       "        text-align: right;\n",
       "    }\n",
       "</style>\n",
       "<table border=\"1\" class=\"dataframe\">\n",
       "  <thead>\n",
       "    <tr style=\"text-align: right;\">\n",
       "      <th></th>\n",
       "      <th>id_prod</th>\n",
       "      <th>date</th>\n",
       "      <th>session_id</th>\n",
       "      <th>client_id</th>\n",
       "    </tr>\n",
       "  </thead>\n",
       "  <tbody>\n",
       "  </tbody>\n",
       "</table>\n",
       "</div>"
      ],
      "text/plain": [
       "Empty DataFrame\n",
       "Columns: [id_prod, date, session_id, client_id]\n",
       "Index: []"
      ]
     },
     "execution_count": 144,
     "metadata": {},
     "output_type": "execute_result"
    }
   ],
   "source": [
    "# Donc par définition aucun n'appartient à la table transactions\n",
    "\n",
    "transactions.loc[transactions['client_id'].isin(List_PasCorrespondance_customer), :]"
   ]
  },
  {
   "cell_type": "code",
   "execution_count": 145,
   "id": "7460dbb6",
   "metadata": {},
   "outputs": [],
   "source": [
    "# Sauvegarder ces 21 clients pour la 1er jointure"
   ]
  },
  {
   "cell_type": "code",
   "execution_count": 146,
   "id": "9f42bcb6",
   "metadata": {},
   "outputs": [],
   "source": [
    "# On sauvegarde toute l'autre partie qu'on utilisera pas dans le même df de sauvegarde S_customer\n",
    "\n",
    "S_customer_TMP = customer.loc[customer['client_id'].isin(List_PasCorrespondance_customer), :]\n",
    "\n",
    "S_customer = pd.concat([S_customer,S_customer_TMP])"
   ]
  },
  {
   "cell_type": "code",
   "execution_count": 147,
   "id": "84885169",
   "metadata": {},
   "outputs": [
    {
     "data": {
      "text/plain": [
       "(23, 5)"
      ]
     },
     "execution_count": 147,
     "metadata": {},
     "output_type": "execute_result"
    }
   ],
   "source": [
    "# 21 + 2 = 23 valeur dans le DF customer de sauvegarde\n",
    "\n",
    "S_customer.shape"
   ]
  },
  {
   "cell_type": "code",
   "execution_count": 148,
   "id": "b338cb96",
   "metadata": {},
   "outputs": [],
   "source": [
    "# Une fois stocké on peut donc les enlever de la table avec lequel on va continuer de travailler\n",
    "\n",
    "customer = customer.loc[~customer['client_id'].isin(List_PasCorrespondance_customer), :]"
   ]
  },
  {
   "cell_type": "code",
   "execution_count": 149,
   "id": "181c360a",
   "metadata": {},
   "outputs": [
    {
     "data": {
      "text/plain": [
       "(8600, 5)"
      ]
     },
     "execution_count": 149,
     "metadata": {},
     "output_type": "execute_result"
    }
   ],
   "source": [
    "# Vérifie qu'on donc 8621 - 21 ID clients\n",
    "\n",
    "customer.shape"
   ]
  },
  {
   "cell_type": "code",
   "execution_count": 150,
   "id": "2ac84335",
   "metadata": {},
   "outputs": [],
   "source": [
    "# Regarde le champs: id_prod --> on commence par le renommer pour garder la même syntaxe\n",
    "\n",
    "transactions = transactions.rename(columns={\"id_prod\": \"product_id\"})"
   ]
  },
  {
   "cell_type": "code",
   "execution_count": 151,
   "id": "c1b42591",
   "metadata": {},
   "outputs": [
    {
     "data": {
      "text/plain": [
       "0         0_1518\n",
       "1          1_251\n",
       "2         0_1277\n",
       "3          2_209\n",
       "4         0_1509\n",
       "           ...  \n",
       "679527    0_1551\n",
       "679528     1_639\n",
       "679529    0_1425\n",
       "679530    0_1994\n",
       "679531     1_523\n",
       "Name: product_id, Length: 679332, dtype: object"
      ]
     },
     "execution_count": 151,
     "metadata": {},
     "output_type": "execute_result"
    }
   ],
   "source": [
    "# Comme pour le DF customer on va vérifier si il y a pas de produit T (teste)\n",
    "\n",
    "transactions['product_id']"
   ]
  },
  {
   "cell_type": "code",
   "execution_count": 152,
   "id": "0baaff61",
   "metadata": {},
   "outputs": [
    {
     "data": {
      "text/plain": [
       "0    415680\n",
       "1    227169\n",
       "2     36483\n",
       "Name: product_id_TEST, dtype: int64"
      ]
     },
     "execution_count": 152,
     "metadata": {},
     "output_type": "execute_result"
    }
   ],
   "source": [
    "# Teste pour voir si il y a plusieurs lettres dans ma colonne client ID\n",
    "# Fait une copy du DF transactions, créer une colonne TEST avec juste la première partie de l'id\n",
    "# Vérifie pas d'autre categorie de produit comme dans product avec 'T'\n",
    "\n",
    "\n",
    "TEST_transactions = transactions.copy()\n",
    "TEST_transactions['product_id'] = TEST_transactions['product_id'].astype(str).str.split('_')\n",
    "TEST_transactions['product_id_TEST'] = TEST_transactions['product_id'].str[0]\n",
    "TEST_transactions['product_id_TEST'].value_counts()"
   ]
  },
  {
   "cell_type": "markdown",
   "id": "28010294",
   "metadata": {},
   "source": [
    " > *Préparation de la future jointure avec la table product:*"
   ]
  },
  {
   "cell_type": "code",
   "execution_count": 153,
   "id": "46a4513b",
   "metadata": {},
   "outputs": [
    {
     "data": {
      "text/plain": [
       "3286"
      ]
     },
     "execution_count": 153,
     "metadata": {},
     "output_type": "execute_result"
    }
   ],
   "source": [
    "# Pour rappel 3286 ID unique dans la table produit\n",
    "\n",
    "product['product_id'].nunique()"
   ]
  },
  {
   "cell_type": "code",
   "execution_count": 154,
   "id": "1f005c6d",
   "metadata": {},
   "outputs": [
    {
     "data": {
      "text/plain": [
       "3266"
      ]
     },
     "execution_count": 154,
     "metadata": {},
     "output_type": "execute_result"
    }
   ],
   "source": [
    "# On regarde le nombre de id unique de la table transactions\n",
    "\n",
    "transactions['product_id'].nunique()"
   ]
  },
  {
   "cell_type": "code",
   "execution_count": 155,
   "id": "8db1b87c",
   "metadata": {},
   "outputs": [],
   "source": [
    "# Création d'une liste de tous les product_id de la table transaction pour la comparer avec la liste de product\n",
    "\n",
    "List_transactions_product_id_TMP = transactions['product_id'].tolist()"
   ]
  },
  {
   "cell_type": "code",
   "execution_count": 156,
   "id": "92589610",
   "metadata": {},
   "outputs": [],
   "source": [
    "# Récupère les valeurs uniques\n",
    "\n",
    "List_transactions_product_id = np.unique(List_transactions_product_id_TMP).tolist()"
   ]
  },
  {
   "cell_type": "code",
   "execution_count": 157,
   "id": "5fa5f430",
   "metadata": {},
   "outputs": [
    {
     "data": {
      "text/plain": [
       "3266"
      ]
     },
     "execution_count": 157,
     "metadata": {},
     "output_type": "execute_result"
    }
   ],
   "source": [
    "# Vérifie la longueur de la liste qui contient que des valeurs uniques\n",
    "\n",
    "len(List_transactions_product_id)"
   ]
  },
  {
   "cell_type": "code",
   "execution_count": 158,
   "id": "f71b55d3",
   "metadata": {},
   "outputs": [],
   "source": [
    "# Vérifie les listes entre le df product et celui-ci, pour se demander si les id client sont les mêmes.\n",
    "\n",
    "List_PasCorrespondance_product = [x for x in List_transactions_product_id + List_product_product_id if x not in List_transactions_product_id or x not in List_product_product_id]"
   ]
  },
  {
   "cell_type": "code",
   "execution_count": 159,
   "id": "8a7cab45",
   "metadata": {},
   "outputs": [
    {
     "data": {
      "text/plain": [
       "22"
      ]
     },
     "execution_count": 159,
     "metadata": {},
     "output_type": "execute_result"
    }
   ],
   "source": [
    "# 22 ID qui ne correpondent pas, normal vu que 21 ID de plus pour la table customer\n",
    "len(List_PasCorrespondance_product)"
   ]
  },
  {
   "cell_type": "code",
   "execution_count": 160,
   "id": "93f0564c",
   "metadata": {},
   "outputs": [
    {
     "data": {
      "text/html": [
       "<div>\n",
       "<style scoped>\n",
       "    .dataframe tbody tr th:only-of-type {\n",
       "        vertical-align: middle;\n",
       "    }\n",
       "\n",
       "    .dataframe tbody tr th {\n",
       "        vertical-align: top;\n",
       "    }\n",
       "\n",
       "    .dataframe thead th {\n",
       "        text-align: right;\n",
       "    }\n",
       "</style>\n",
       "<table border=\"1\" class=\"dataframe\">\n",
       "  <thead>\n",
       "    <tr style=\"text-align: right;\">\n",
       "      <th></th>\n",
       "      <th>product_id</th>\n",
       "      <th>price</th>\n",
       "      <th>categ</th>\n",
       "    </tr>\n",
       "  </thead>\n",
       "  <tbody>\n",
       "    <tr>\n",
       "      <th>184</th>\n",
       "      <td>0_1016</td>\n",
       "      <td>35.06</td>\n",
       "      <td>0</td>\n",
       "    </tr>\n",
       "    <tr>\n",
       "      <th>279</th>\n",
       "      <td>0_1780</td>\n",
       "      <td>1.67</td>\n",
       "      <td>0</td>\n",
       "    </tr>\n",
       "    <tr>\n",
       "      <th>737</th>\n",
       "      <td>0_1062</td>\n",
       "      <td>20.08</td>\n",
       "      <td>0</td>\n",
       "    </tr>\n",
       "    <tr>\n",
       "      <th>794</th>\n",
       "      <td>0_1119</td>\n",
       "      <td>2.99</td>\n",
       "      <td>0</td>\n",
       "    </tr>\n",
       "    <tr>\n",
       "      <th>811</th>\n",
       "      <td>0_1014</td>\n",
       "      <td>1.15</td>\n",
       "      <td>0</td>\n",
       "    </tr>\n",
       "    <tr>\n",
       "      <th>846</th>\n",
       "      <td>1_0</td>\n",
       "      <td>31.82</td>\n",
       "      <td>1</td>\n",
       "    </tr>\n",
       "    <tr>\n",
       "      <th>1031</th>\n",
       "      <td>0_1318</td>\n",
       "      <td>20.92</td>\n",
       "      <td>0</td>\n",
       "    </tr>\n",
       "    <tr>\n",
       "      <th>1139</th>\n",
       "      <td>0_1800</td>\n",
       "      <td>22.05</td>\n",
       "      <td>0</td>\n",
       "    </tr>\n",
       "    <tr>\n",
       "      <th>1347</th>\n",
       "      <td>0_1645</td>\n",
       "      <td>2.99</td>\n",
       "      <td>0</td>\n",
       "    </tr>\n",
       "    <tr>\n",
       "      <th>1505</th>\n",
       "      <td>0_322</td>\n",
       "      <td>2.99</td>\n",
       "      <td>0</td>\n",
       "    </tr>\n",
       "    <tr>\n",
       "      <th>1530</th>\n",
       "      <td>0_1620</td>\n",
       "      <td>0.80</td>\n",
       "      <td>0</td>\n",
       "    </tr>\n",
       "    <tr>\n",
       "      <th>1543</th>\n",
       "      <td>0_1025</td>\n",
       "      <td>24.99</td>\n",
       "      <td>0</td>\n",
       "    </tr>\n",
       "    <tr>\n",
       "      <th>1709</th>\n",
       "      <td>2_87</td>\n",
       "      <td>220.99</td>\n",
       "      <td>2</td>\n",
       "    </tr>\n",
       "    <tr>\n",
       "      <th>1863</th>\n",
       "      <td>1_394</td>\n",
       "      <td>39.73</td>\n",
       "      <td>1</td>\n",
       "    </tr>\n",
       "    <tr>\n",
       "      <th>1946</th>\n",
       "      <td>2_72</td>\n",
       "      <td>141.32</td>\n",
       "      <td>2</td>\n",
       "    </tr>\n",
       "    <tr>\n",
       "      <th>2215</th>\n",
       "      <td>0_310</td>\n",
       "      <td>1.94</td>\n",
       "      <td>0</td>\n",
       "    </tr>\n",
       "    <tr>\n",
       "      <th>2408</th>\n",
       "      <td>0_1624</td>\n",
       "      <td>24.50</td>\n",
       "      <td>0</td>\n",
       "    </tr>\n",
       "    <tr>\n",
       "      <th>2525</th>\n",
       "      <td>2_86</td>\n",
       "      <td>132.36</td>\n",
       "      <td>2</td>\n",
       "    </tr>\n",
       "    <tr>\n",
       "      <th>2690</th>\n",
       "      <td>0_299</td>\n",
       "      <td>22.99</td>\n",
       "      <td>0</td>\n",
       "    </tr>\n",
       "    <tr>\n",
       "      <th>3031</th>\n",
       "      <td>0_510</td>\n",
       "      <td>23.66</td>\n",
       "      <td>0</td>\n",
       "    </tr>\n",
       "    <tr>\n",
       "      <th>3096</th>\n",
       "      <td>0_2308</td>\n",
       "      <td>20.28</td>\n",
       "      <td>0</td>\n",
       "    </tr>\n",
       "  </tbody>\n",
       "</table>\n",
       "</div>"
      ],
      "text/plain": [
       "     product_id   price  categ\n",
       "184      0_1016   35.06      0\n",
       "279      0_1780    1.67      0\n",
       "737      0_1062   20.08      0\n",
       "794      0_1119    2.99      0\n",
       "811      0_1014    1.15      0\n",
       "846         1_0   31.82      1\n",
       "1031     0_1318   20.92      0\n",
       "1139     0_1800   22.05      0\n",
       "1347     0_1645    2.99      0\n",
       "1505      0_322    2.99      0\n",
       "1530     0_1620    0.80      0\n",
       "1543     0_1025   24.99      0\n",
       "1709       2_87  220.99      2\n",
       "1863      1_394   39.73      1\n",
       "1946       2_72  141.32      2\n",
       "2215      0_310    1.94      0\n",
       "2408     0_1624   24.50      0\n",
       "2525       2_86  132.36      2\n",
       "2690      0_299   22.99      0\n",
       "3031      0_510   23.66      0\n",
       "3096     0_2308   20.28      0"
      ]
     },
     "execution_count": 160,
     "metadata": {},
     "output_type": "execute_result"
    }
   ],
   "source": [
    "# On regarde combien des 22 ID pas correspondant avec la table transactions appartient à la table product, ici 21\n",
    "\n",
    "product.loc[product['product_id'].isin(List_PasCorrespondance_product), :]"
   ]
  },
  {
   "cell_type": "code",
   "execution_count": 161,
   "id": "a1c898e7",
   "metadata": {},
   "outputs": [],
   "source": [
    "# Sauvegarde ces 21 produits pour la 2ieme jointure\n",
    "# On sauvegarde toute l'autre partie qu'on utilisera pas dans le même df de sauvegarde S_customer\n",
    "\n",
    "S_product_TMP = product.loc[product['product_id'].isin(List_PasCorrespondance_product), :]\n",
    "\n",
    "S_product = pd.concat([S_product,S_product_TMP])"
   ]
  },
  {
   "cell_type": "code",
   "execution_count": 162,
   "id": "ead9400a",
   "metadata": {},
   "outputs": [
    {
     "data": {
      "text/plain": [
       "(22, 3)"
      ]
     },
     "execution_count": 162,
     "metadata": {},
     "output_type": "execute_result"
    }
   ],
   "source": [
    "# 21 + 1(pdt test) = 22 valeur dans le DF product de sauvegarde\n",
    "\n",
    "S_product.shape"
   ]
  },
  {
   "cell_type": "code",
   "execution_count": 163,
   "id": "9ba7c7ce",
   "metadata": {},
   "outputs": [],
   "source": [
    "# Une fois stocké on peut donc les enlever de la table avec lequel on va continuer de travailler\n",
    "\n",
    "product = product.loc[~product['product_id'].isin(List_PasCorrespondance_product), :]"
   ]
  },
  {
   "cell_type": "code",
   "execution_count": 164,
   "id": "13467eee",
   "metadata": {},
   "outputs": [
    {
     "data": {
      "text/plain": [
       "(3265, 3)"
      ]
     },
     "execution_count": 164,
     "metadata": {},
     "output_type": "execute_result"
    }
   ],
   "source": [
    "# Vérifie qu'on donc 3286-21  ID product\n",
    "\n",
    "product.shape"
   ]
  },
  {
   "cell_type": "code",
   "execution_count": 165,
   "id": "04fa77d5",
   "metadata": {},
   "outputs": [
    {
     "data": {
      "text/html": [
       "<div>\n",
       "<style scoped>\n",
       "    .dataframe tbody tr th:only-of-type {\n",
       "        vertical-align: middle;\n",
       "    }\n",
       "\n",
       "    .dataframe tbody tr th {\n",
       "        vertical-align: top;\n",
       "    }\n",
       "\n",
       "    .dataframe thead th {\n",
       "        text-align: right;\n",
       "    }\n",
       "</style>\n",
       "<table border=\"1\" class=\"dataframe\">\n",
       "  <thead>\n",
       "    <tr style=\"text-align: right;\">\n",
       "      <th></th>\n",
       "      <th>product_id</th>\n",
       "      <th>date</th>\n",
       "      <th>session_id</th>\n",
       "      <th>client_id</th>\n",
       "    </tr>\n",
       "  </thead>\n",
       "  <tbody>\n",
       "    <tr>\n",
       "      <th>2633</th>\n",
       "      <td>0_2245</td>\n",
       "      <td>2022-09-23 07:22:38.636773</td>\n",
       "      <td>s_272266</td>\n",
       "      <td>c_4746</td>\n",
       "    </tr>\n",
       "    <tr>\n",
       "      <th>10106</th>\n",
       "      <td>0_2245</td>\n",
       "      <td>2022-07-23 09:24:14.133889</td>\n",
       "      <td>s_242482</td>\n",
       "      <td>c_6713</td>\n",
       "    </tr>\n",
       "    <tr>\n",
       "      <th>11727</th>\n",
       "      <td>0_2245</td>\n",
       "      <td>2022-12-03 03:26:35.696673</td>\n",
       "      <td>s_306338</td>\n",
       "      <td>c_5108</td>\n",
       "    </tr>\n",
       "    <tr>\n",
       "      <th>15675</th>\n",
       "      <td>0_2245</td>\n",
       "      <td>2021-08-16 11:33:25.481411</td>\n",
       "      <td>s_76493</td>\n",
       "      <td>c_1391</td>\n",
       "    </tr>\n",
       "    <tr>\n",
       "      <th>16377</th>\n",
       "      <td>0_2245</td>\n",
       "      <td>2022-07-16 05:53:01.627491</td>\n",
       "      <td>s_239078</td>\n",
       "      <td>c_7954</td>\n",
       "    </tr>\n",
       "    <tr>\n",
       "      <th>...</th>\n",
       "      <td>...</td>\n",
       "      <td>...</td>\n",
       "      <td>...</td>\n",
       "      <td>...</td>\n",
       "    </tr>\n",
       "    <tr>\n",
       "      <th>669730</th>\n",
       "      <td>0_2245</td>\n",
       "      <td>2021-08-25 09:06:03.504061</td>\n",
       "      <td>s_80395</td>\n",
       "      <td>c_131</td>\n",
       "    </tr>\n",
       "    <tr>\n",
       "      <th>670682</th>\n",
       "      <td>0_2245</td>\n",
       "      <td>2022-03-06 19:59:19.462288</td>\n",
       "      <td>s_175311</td>\n",
       "      <td>c_4167</td>\n",
       "    </tr>\n",
       "    <tr>\n",
       "      <th>671286</th>\n",
       "      <td>0_2245</td>\n",
       "      <td>2022-05-16 11:35:20.319501</td>\n",
       "      <td>s_209381</td>\n",
       "      <td>c_4453</td>\n",
       "    </tr>\n",
       "    <tr>\n",
       "      <th>675679</th>\n",
       "      <td>0_2245</td>\n",
       "      <td>2022-02-11 09:05:43.952857</td>\n",
       "      <td>s_163405</td>\n",
       "      <td>c_1098</td>\n",
       "    </tr>\n",
       "    <tr>\n",
       "      <th>677996</th>\n",
       "      <td>0_2245</td>\n",
       "      <td>2021-12-14 22:34:54.589921</td>\n",
       "      <td>s_134446</td>\n",
       "      <td>c_4854</td>\n",
       "    </tr>\n",
       "  </tbody>\n",
       "</table>\n",
       "<p>221 rows × 4 columns</p>\n",
       "</div>"
      ],
      "text/plain": [
       "       product_id                        date session_id client_id\n",
       "2633       0_2245  2022-09-23 07:22:38.636773   s_272266    c_4746\n",
       "10106      0_2245  2022-07-23 09:24:14.133889   s_242482    c_6713\n",
       "11727      0_2245  2022-12-03 03:26:35.696673   s_306338    c_5108\n",
       "15675      0_2245  2021-08-16 11:33:25.481411    s_76493    c_1391\n",
       "16377      0_2245  2022-07-16 05:53:01.627491   s_239078    c_7954\n",
       "...           ...                         ...        ...       ...\n",
       "669730     0_2245  2021-08-25 09:06:03.504061    s_80395     c_131\n",
       "670682     0_2245  2022-03-06 19:59:19.462288   s_175311    c_4167\n",
       "671286     0_2245  2022-05-16 11:35:20.319501   s_209381    c_4453\n",
       "675679     0_2245  2022-02-11 09:05:43.952857   s_163405    c_1098\n",
       "677996     0_2245  2021-12-14 22:34:54.589921   s_134446    c_4854\n",
       "\n",
       "[221 rows x 4 columns]"
      ]
     },
     "execution_count": 165,
     "metadata": {},
     "output_type": "execute_result"
    }
   ],
   "source": [
    "# On vérifie si le dernier id est bien dans transactions: Donc 22-21 1 ID devrait être ici \n",
    "\n",
    "transactions.loc[transactions['product_id'].isin(List_PasCorrespondance_product), :]"
   ]
  },
  {
   "cell_type": "code",
   "execution_count": 166,
   "id": "8fe63923",
   "metadata": {},
   "outputs": [
    {
     "data": {
      "text/html": [
       "<div>\n",
       "<style scoped>\n",
       "    .dataframe tbody tr th:only-of-type {\n",
       "        vertical-align: middle;\n",
       "    }\n",
       "\n",
       "    .dataframe tbody tr th {\n",
       "        vertical-align: top;\n",
       "    }\n",
       "\n",
       "    .dataframe thead th {\n",
       "        text-align: right;\n",
       "    }\n",
       "</style>\n",
       "<table border=\"1\" class=\"dataframe\">\n",
       "  <thead>\n",
       "    <tr style=\"text-align: right;\">\n",
       "      <th></th>\n",
       "      <th>product_id</th>\n",
       "      <th>date</th>\n",
       "      <th>session_id</th>\n",
       "      <th>client_id</th>\n",
       "    </tr>\n",
       "  </thead>\n",
       "  <tbody>\n",
       "    <tr>\n",
       "      <th>2633</th>\n",
       "      <td>0_2245</td>\n",
       "      <td>2022-09-23 07:22:38.636773</td>\n",
       "      <td>s_272266</td>\n",
       "      <td>c_4746</td>\n",
       "    </tr>\n",
       "    <tr>\n",
       "      <th>10106</th>\n",
       "      <td>0_2245</td>\n",
       "      <td>2022-07-23 09:24:14.133889</td>\n",
       "      <td>s_242482</td>\n",
       "      <td>c_6713</td>\n",
       "    </tr>\n",
       "    <tr>\n",
       "      <th>11727</th>\n",
       "      <td>0_2245</td>\n",
       "      <td>2022-12-03 03:26:35.696673</td>\n",
       "      <td>s_306338</td>\n",
       "      <td>c_5108</td>\n",
       "    </tr>\n",
       "    <tr>\n",
       "      <th>15675</th>\n",
       "      <td>0_2245</td>\n",
       "      <td>2021-08-16 11:33:25.481411</td>\n",
       "      <td>s_76493</td>\n",
       "      <td>c_1391</td>\n",
       "    </tr>\n",
       "    <tr>\n",
       "      <th>16377</th>\n",
       "      <td>0_2245</td>\n",
       "      <td>2022-07-16 05:53:01.627491</td>\n",
       "      <td>s_239078</td>\n",
       "      <td>c_7954</td>\n",
       "    </tr>\n",
       "    <tr>\n",
       "      <th>...</th>\n",
       "      <td>...</td>\n",
       "      <td>...</td>\n",
       "      <td>...</td>\n",
       "      <td>...</td>\n",
       "    </tr>\n",
       "    <tr>\n",
       "      <th>669730</th>\n",
       "      <td>0_2245</td>\n",
       "      <td>2021-08-25 09:06:03.504061</td>\n",
       "      <td>s_80395</td>\n",
       "      <td>c_131</td>\n",
       "    </tr>\n",
       "    <tr>\n",
       "      <th>670682</th>\n",
       "      <td>0_2245</td>\n",
       "      <td>2022-03-06 19:59:19.462288</td>\n",
       "      <td>s_175311</td>\n",
       "      <td>c_4167</td>\n",
       "    </tr>\n",
       "    <tr>\n",
       "      <th>671286</th>\n",
       "      <td>0_2245</td>\n",
       "      <td>2022-05-16 11:35:20.319501</td>\n",
       "      <td>s_209381</td>\n",
       "      <td>c_4453</td>\n",
       "    </tr>\n",
       "    <tr>\n",
       "      <th>675679</th>\n",
       "      <td>0_2245</td>\n",
       "      <td>2022-02-11 09:05:43.952857</td>\n",
       "      <td>s_163405</td>\n",
       "      <td>c_1098</td>\n",
       "    </tr>\n",
       "    <tr>\n",
       "      <th>677996</th>\n",
       "      <td>0_2245</td>\n",
       "      <td>2021-12-14 22:34:54.589921</td>\n",
       "      <td>s_134446</td>\n",
       "      <td>c_4854</td>\n",
       "    </tr>\n",
       "  </tbody>\n",
       "</table>\n",
       "<p>221 rows × 4 columns</p>\n",
       "</div>"
      ],
      "text/plain": [
       "       product_id                        date session_id client_id\n",
       "2633       0_2245  2022-09-23 07:22:38.636773   s_272266    c_4746\n",
       "10106      0_2245  2022-07-23 09:24:14.133889   s_242482    c_6713\n",
       "11727      0_2245  2022-12-03 03:26:35.696673   s_306338    c_5108\n",
       "15675      0_2245  2021-08-16 11:33:25.481411    s_76493    c_1391\n",
       "16377      0_2245  2022-07-16 05:53:01.627491   s_239078    c_7954\n",
       "...           ...                         ...        ...       ...\n",
       "669730     0_2245  2021-08-25 09:06:03.504061    s_80395     c_131\n",
       "670682     0_2245  2022-03-06 19:59:19.462288   s_175311    c_4167\n",
       "671286     0_2245  2022-05-16 11:35:20.319501   s_209381    c_4453\n",
       "675679     0_2245  2022-02-11 09:05:43.952857   s_163405    c_1098\n",
       "677996     0_2245  2021-12-14 22:34:54.589921   s_134446    c_4854\n",
       "\n",
       "[221 rows x 4 columns]"
      ]
     },
     "execution_count": 166,
     "metadata": {},
     "output_type": "execute_result"
    }
   ],
   "source": [
    "# On vérifie et oui l'ID 0_2245 est présent 221 fois dans la table transactions alors qu'il ne correpond a aucun produit\n",
    "# de la table produit\n",
    "\n",
    "produit_2245 = transactions.loc[transactions['product_id'] == '0_2245',:]\n",
    "produit_2245"
   ]
  },
  {
   "cell_type": "code",
   "execution_count": 167,
   "id": "64170bd2",
   "metadata": {},
   "outputs": [
    {
     "name": "stdout",
     "output_type": "stream",
     "text": [
      "Produit 0_2245 : 0.03 % du dataset\n"
     ]
    }
   ],
   "source": [
    "# On voit que le produit 0_2245 a été acheté par plusieurs clients, même si il représente que 0.03% du dataset (pas impactant)\n",
    "# on va donc imputer ce produits à la table product ou il n'est pas présent\n",
    "\n",
    "# Pourcentage des ventes du produit 0_2245\n",
    "print('Produit 0_2245 :', round((len(produit_2245) / len(transactions) * 100), 2), '% du dataset')"
   ]
  },
  {
   "cell_type": "code",
   "execution_count": 168,
   "id": "fc83673e",
   "metadata": {},
   "outputs": [],
   "source": [
    "# Pour l'imputation dans la table product il nous manque son prix --> Plusieurs choix s'offre à nous: Le mode, la median, la moyenne"
   ]
  },
  {
   "cell_type": "code",
   "execution_count": 169,
   "id": "7d34e7fd",
   "metadata": {},
   "outputs": [
    {
     "name": "stdout",
     "output_type": "stream",
     "text": [
      "Categorie 0: \n",
      "-Prix moyen : 11.71 \n",
      "-Prix median: 10.3 \n",
      "-Mode : 0    4.99\n",
      "Name: price, dtype: float64\n"
     ]
    }
   ],
   "source": [
    "# Créer un df avec seulement tous les produits de categorie 0\n",
    "categ0 = product.loc[product['categ']==0,:]\n",
    "\n",
    "print('Categorie 0:',\n",
    "      '\\n-Prix moyen :', round(categ0['price'].mean(),2),\n",
    "      '\\n-Prix median:', round(categ0['price'].median(),2),\n",
    "      '\\n-Mode :', round(categ0['price'].mode(),2))\n",
    "\n"
   ]
  },
  {
   "cell_type": "code",
   "execution_count": 170,
   "id": "674ef613",
   "metadata": {},
   "outputs": [
    {
     "data": {
      "text/plain": [
       "<AxesSubplot:xlabel='price'>"
      ]
     },
     "execution_count": 170,
     "metadata": {},
     "output_type": "execute_result"
    },
    {
     "data": {
      "image/png": "[encoded data removed]",
      "text/plain": [
       "<Figure size 640x480 with 1 Axes>"
      ]
     },
     "metadata": {},
     "output_type": "display_data"
    }
   ],
   "source": [
    "# On regarde la distribution du prix pour la categorie 0, le mode est peu représentatitf, par contre la median ou la moyenne \n",
    "# l'est plus. On va donc imputer par la moyenne\n",
    "\n",
    "sns.boxplot(x=categ0['price'], showmeans=True)"
   ]
  },
  {
   "cell_type": "code",
   "execution_count": 171,
   "id": "2f67ae96",
   "metadata": {},
   "outputs": [],
   "source": [
    "# Nous connaissons la categorie de ce produit car il commence par 0 \n",
    "# Nous connaissons pas son prix donc noud allons imputer sur le prix moyen des produit de categorie 0\n",
    "# On recupere ce prix on l'arrondit à deux decimal comme tous les prix de cette table\n",
    "\n",
    "Price_categ0_mean = round(categ0['price'].mean(),2)"
   ]
  },
  {
   "cell_type": "code",
   "execution_count": 172,
   "id": "e424bd71",
   "metadata": {},
   "outputs": [],
   "source": [
    "# On ajoute ce produit dans la table product\n",
    "\n",
    "product=product.append({'product_id' : '0_2245' , 'price' : Price_categ0_mean, 'categ' : 0} , ignore_index=True)"
   ]
  },
  {
   "cell_type": "code",
   "execution_count": 173,
   "id": "1ea7f3a5",
   "metadata": {},
   "outputs": [
    {
     "data": {
      "text/html": [
       "<div>\n",
       "<style scoped>\n",
       "    .dataframe tbody tr th:only-of-type {\n",
       "        vertical-align: middle;\n",
       "    }\n",
       "\n",
       "    .dataframe tbody tr th {\n",
       "        vertical-align: top;\n",
       "    }\n",
       "\n",
       "    .dataframe thead th {\n",
       "        text-align: right;\n",
       "    }\n",
       "</style>\n",
       "<table border=\"1\" class=\"dataframe\">\n",
       "  <thead>\n",
       "    <tr style=\"text-align: right;\">\n",
       "      <th></th>\n",
       "      <th>product_id</th>\n",
       "      <th>price</th>\n",
       "      <th>categ</th>\n",
       "    </tr>\n",
       "  </thead>\n",
       "  <tbody>\n",
       "    <tr>\n",
       "      <th>3265</th>\n",
       "      <td>0_2245</td>\n",
       "      <td>11.71</td>\n",
       "      <td>0</td>\n",
       "    </tr>\n",
       "  </tbody>\n",
       "</table>\n",
       "</div>"
      ],
      "text/plain": [
       "     product_id  price  categ\n",
       "3265     0_2245  11.71      0"
      ]
     },
     "execution_count": 173,
     "metadata": {},
     "output_type": "execute_result"
    }
   ],
   "source": [
    "# On vérifie qu'il a bien été rajouté\n",
    "\n",
    "product.loc[product['product_id']=='0_2245',:]"
   ]
  },
  {
   "cell_type": "code",
   "execution_count": 174,
   "id": "5ab2910b",
   "metadata": {},
   "outputs": [
    {
     "data": {
      "text/plain": [
       "3266"
      ]
     },
     "execution_count": 174,
     "metadata": {},
     "output_type": "execute_result"
    }
   ],
   "source": [
    "# Vérifie qu'on passe de 3265 à 3266 id uniques\n",
    "\n",
    "product['product_id'].nunique()"
   ]
  },
  {
   "cell_type": "code",
   "execution_count": 175,
   "id": "783f126a",
   "metadata": {},
   "outputs": [],
   "source": [
    "# Re créer la liste de tous les product_id\n",
    "\n",
    "List_product_product_id = product['product_id'].tolist()"
   ]
  },
  {
   "cell_type": "code",
   "execution_count": 176,
   "id": "8cb5b2e8",
   "metadata": {},
   "outputs": [],
   "source": [
    "# Vérifie les listes entre le df product et celui-ci, pour se demander si les id client sont les mêmes.\n",
    "\n",
    "List_PasCorrespondance_product = [x for x in List_transactions_product_id + List_product_product_id if x not in List_transactions_product_id or x not in List_product_product_id]"
   ]
  },
  {
   "cell_type": "code",
   "execution_count": 177,
   "id": "6e8d8286",
   "metadata": {},
   "outputs": [
    {
     "data": {
      "text/html": [
       "<div>\n",
       "<style scoped>\n",
       "    .dataframe tbody tr th:only-of-type {\n",
       "        vertical-align: middle;\n",
       "    }\n",
       "\n",
       "    .dataframe tbody tr th {\n",
       "        vertical-align: top;\n",
       "    }\n",
       "\n",
       "    .dataframe thead th {\n",
       "        text-align: right;\n",
       "    }\n",
       "</style>\n",
       "<table border=\"1\" class=\"dataframe\">\n",
       "  <thead>\n",
       "    <tr style=\"text-align: right;\">\n",
       "      <th></th>\n",
       "      <th>product_id</th>\n",
       "      <th>date</th>\n",
       "      <th>session_id</th>\n",
       "      <th>client_id</th>\n",
       "    </tr>\n",
       "  </thead>\n",
       "  <tbody>\n",
       "  </tbody>\n",
       "</table>\n",
       "</div>"
      ],
      "text/plain": [
       "Empty DataFrame\n",
       "Columns: [product_id, date, session_id, client_id]\n",
       "Index: []"
      ]
     },
     "execution_count": 177,
     "metadata": {},
     "output_type": "execute_result"
    }
   ],
   "source": [
    "# On vérifie que cette fois ci aucun produit de la liste de non correspondance est présent dans la table transaction\n",
    "\n",
    "transactions.loc[transactions['product_id'].isin(List_PasCorrespondance_product), :]"
   ]
  },
  {
   "cell_type": "code",
   "execution_count": 178,
   "id": "a6986e1d",
   "metadata": {},
   "outputs": [
    {
     "data": {
      "text/plain": [
       "(679332, 4)"
      ]
     },
     "execution_count": 178,
     "metadata": {},
     "output_type": "execute_result"
    }
   ],
   "source": [
    "# Vérifie la longueur de la table --> 679 332 transactions\n",
    "\n",
    "transactions.shape"
   ]
  },
  {
   "cell_type": "code",
   "execution_count": 179,
   "id": "802f68e2",
   "metadata": {},
   "outputs": [
    {
     "data": {
      "text/plain": [
       "s_118668    14\n",
       "s_21005     13\n",
       "s_179575    13\n",
       "s_342045    13\n",
       "s_96857     13\n",
       "            ..\n",
       "s_33111      1\n",
       "s_22778      1\n",
       "s_198924     1\n",
       "s_45000      1\n",
       "s_181434     1\n",
       "Name: session_id, Length: 342315, dtype: int64"
      ]
     },
     "execution_count": 179,
     "metadata": {},
     "output_type": "execute_result"
    }
   ],
   "source": [
    "# On regarde le champs session_id\n",
    "\n",
    "transactions['session_id'].value_counts()"
   ]
  },
  {
   "cell_type": "code",
   "execution_count": 180,
   "id": "759bd552",
   "metadata": {},
   "outputs": [
    {
     "data": {
      "text/plain": [
       "342315"
      ]
     },
     "execution_count": 180,
     "metadata": {},
     "output_type": "execute_result"
    }
   ],
   "source": [
    "# On regarde le champs session ID : 342315 id session unique sur 500k transactions donc plusieurs fois même session possible\n",
    "\n",
    "transactions['session_id'].nunique()"
   ]
  },
  {
   "cell_type": "code",
   "execution_count": 181,
   "id": "0aaeb9cd",
   "metadata": {},
   "outputs": [
    {
     "data": {
      "text/html": [
       "<div>\n",
       "<style scoped>\n",
       "    .dataframe tbody tr th:only-of-type {\n",
       "        vertical-align: middle;\n",
       "    }\n",
       "\n",
       "    .dataframe tbody tr th {\n",
       "        vertical-align: top;\n",
       "    }\n",
       "\n",
       "    .dataframe thead th {\n",
       "        text-align: right;\n",
       "    }\n",
       "</style>\n",
       "<table border=\"1\" class=\"dataframe\">\n",
       "  <thead>\n",
       "    <tr style=\"text-align: right;\">\n",
       "      <th></th>\n",
       "      <th>product_id</th>\n",
       "      <th>date</th>\n",
       "      <th>session_id</th>\n",
       "      <th>client_id</th>\n",
       "    </tr>\n",
       "  </thead>\n",
       "  <tbody>\n",
       "    <tr>\n",
       "      <th>113905</th>\n",
       "      <td>0_1108</td>\n",
       "      <td>2021-11-12 20:20:33.659396</td>\n",
       "      <td>s_118668</td>\n",
       "      <td>c_5995</td>\n",
       "    </tr>\n",
       "    <tr>\n",
       "      <th>146395</th>\n",
       "      <td>0_1089</td>\n",
       "      <td>2021-11-12 20:02:54.200624</td>\n",
       "      <td>s_118668</td>\n",
       "      <td>c_5995</td>\n",
       "    </tr>\n",
       "    <tr>\n",
       "      <th>190002</th>\n",
       "      <td>0_1334</td>\n",
       "      <td>2021-11-12 20:08:40.783542</td>\n",
       "      <td>s_118668</td>\n",
       "      <td>c_5995</td>\n",
       "    </tr>\n",
       "    <tr>\n",
       "      <th>192700</th>\n",
       "      <td>1_396</td>\n",
       "      <td>2021-11-12 20:54:33.612303</td>\n",
       "      <td>s_118668</td>\n",
       "      <td>c_5995</td>\n",
       "    </tr>\n",
       "    <tr>\n",
       "      <th>231001</th>\n",
       "      <td>0_1519</td>\n",
       "      <td>2021-11-12 20:01:58.131234</td>\n",
       "      <td>s_118668</td>\n",
       "      <td>c_5995</td>\n",
       "    </tr>\n",
       "    <tr>\n",
       "      <th>264217</th>\n",
       "      <td>0_1430</td>\n",
       "      <td>2021-11-12 20:36:39.252082</td>\n",
       "      <td>s_118668</td>\n",
       "      <td>c_5995</td>\n",
       "    </tr>\n",
       "    <tr>\n",
       "      <th>403733</th>\n",
       "      <td>1_498</td>\n",
       "      <td>2021-11-12 20:18:11.950251</td>\n",
       "      <td>s_118668</td>\n",
       "      <td>c_5995</td>\n",
       "    </tr>\n",
       "    <tr>\n",
       "      <th>444176</th>\n",
       "      <td>0_1612</td>\n",
       "      <td>2021-11-12 20:27:59.185956</td>\n",
       "      <td>s_118668</td>\n",
       "      <td>c_5995</td>\n",
       "    </tr>\n",
       "    <tr>\n",
       "      <th>463852</th>\n",
       "      <td>0_1488</td>\n",
       "      <td>2021-11-12 20:23:50.319430</td>\n",
       "      <td>s_118668</td>\n",
       "      <td>c_5995</td>\n",
       "    </tr>\n",
       "    <tr>\n",
       "      <th>511579</th>\n",
       "      <td>2_209</td>\n",
       "      <td>2021-11-12 20:00:00.956739</td>\n",
       "      <td>s_118668</td>\n",
       "      <td>c_5995</td>\n",
       "    </tr>\n",
       "    <tr>\n",
       "      <th>552086</th>\n",
       "      <td>0_1564</td>\n",
       "      <td>2021-11-12 20:09:17.901543</td>\n",
       "      <td>s_118668</td>\n",
       "      <td>c_5995</td>\n",
       "    </tr>\n",
       "    <tr>\n",
       "      <th>568884</th>\n",
       "      <td>0_1400</td>\n",
       "      <td>2021-11-12 21:24:36.491177</td>\n",
       "      <td>s_118668</td>\n",
       "      <td>c_5995</td>\n",
       "    </tr>\n",
       "    <tr>\n",
       "      <th>640882</th>\n",
       "      <td>1_293</td>\n",
       "      <td>2021-11-12 21:23:52.304426</td>\n",
       "      <td>s_118668</td>\n",
       "      <td>c_5995</td>\n",
       "    </tr>\n",
       "    <tr>\n",
       "      <th>678112</th>\n",
       "      <td>1_81</td>\n",
       "      <td>2021-11-12 20:24:02.266858</td>\n",
       "      <td>s_118668</td>\n",
       "      <td>c_5995</td>\n",
       "    </tr>\n",
       "  </tbody>\n",
       "</table>\n",
       "</div>"
      ],
      "text/plain": [
       "       product_id                        date session_id client_id\n",
       "113905     0_1108  2021-11-12 20:20:33.659396   s_118668    c_5995\n",
       "146395     0_1089  2021-11-12 20:02:54.200624   s_118668    c_5995\n",
       "190002     0_1334  2021-11-12 20:08:40.783542   s_118668    c_5995\n",
       "192700      1_396  2021-11-12 20:54:33.612303   s_118668    c_5995\n",
       "231001     0_1519  2021-11-12 20:01:58.131234   s_118668    c_5995\n",
       "264217     0_1430  2021-11-12 20:36:39.252082   s_118668    c_5995\n",
       "403733      1_498  2021-11-12 20:18:11.950251   s_118668    c_5995\n",
       "444176     0_1612  2021-11-12 20:27:59.185956   s_118668    c_5995\n",
       "463852     0_1488  2021-11-12 20:23:50.319430   s_118668    c_5995\n",
       "511579      2_209  2021-11-12 20:00:00.956739   s_118668    c_5995\n",
       "552086     0_1564  2021-11-12 20:09:17.901543   s_118668    c_5995\n",
       "568884     0_1400  2021-11-12 21:24:36.491177   s_118668    c_5995\n",
       "640882      1_293  2021-11-12 21:23:52.304426   s_118668    c_5995\n",
       "678112       1_81  2021-11-12 20:24:02.266858   s_118668    c_5995"
      ]
     },
     "execution_count": 181,
     "metadata": {},
     "output_type": "execute_result"
    }
   ],
   "source": [
    "# Plusieurs fois la même session \n",
    "\n",
    "transactions.loc[transactions['session_id'] == 's_118668',:]"
   ]
  },
  {
   "cell_type": "code",
   "execution_count": 182,
   "id": "1e3867ad",
   "metadata": {},
   "outputs": [
    {
     "data": {
      "text/plain": [
       "s    679332\n",
       "Name: session_id_TEST, dtype: int64"
      ]
     },
     "execution_count": 182,
     "metadata": {},
     "output_type": "execute_result"
    }
   ],
   "source": [
    "# Teste pour voir si il y a plusieurs lettres dans ma colonne session ID\n",
    "# Fait une copy du DF transactions, créer une colonne TEST avec juste la première partie de l'id, on vérifie l'unicité, ici seulement S\n",
    "\n",
    "TEST_transactions['session_id'] = TEST_transactions['session_id'].astype(str).str.split('_')\n",
    "TEST_transactions['session_id_TEST'] = TEST_transactions['session_id'].str[0]\n",
    "TEST_transactions['session_id_TEST'].value_counts()"
   ]
  },
  {
   "cell_type": "code",
   "execution_count": 183,
   "id": "7fbcba78",
   "metadata": {},
   "outputs": [],
   "source": [
    "# On regarde le champs date\n",
    "\n",
    "transactions['date'] = pd.to_datetime(transactions['date'])"
   ]
  },
  {
   "cell_type": "code",
   "execution_count": 184,
   "id": "0f39a0f1",
   "metadata": {},
   "outputs": [
    {
     "data": {
      "text/plain": [
       "0"
      ]
     },
     "execution_count": 184,
     "metadata": {},
     "output_type": "execute_result"
    }
   ],
   "source": [
    "# Toutes dates uniques donc ca sera donc mon index de cette table, une transaction = une date\n",
    "\n",
    "transactions['date'].duplicated().sum()"
   ]
  },
  {
   "cell_type": "raw",
   "id": "352c9c5c",
   "metadata": {},
   "source": [
    "Creation d'un champ \"Annee_Mois\"."
   ]
  },
  {
   "cell_type": "code",
   "execution_count": 185,
   "id": "64939317",
   "metadata": {},
   "outputs": [],
   "source": [
    "# On créait une colonne avec juste le mois et l'année de la transaction en format date --> qui servira pour les graphiques\n",
    "\n",
    "transactions['Annee_Mois'] = transactions['date'].dt.strftime('%m/%Y')\n",
    "transactions['Annee_Mois'] = pd.to_datetime(transactions['Annee_Mois'])"
   ]
  },
  {
   "cell_type": "code",
   "execution_count": 186,
   "id": "8dc69d92",
   "metadata": {},
   "outputs": [
    {
     "data": {
      "text/html": [
       "<div>\n",
       "<style scoped>\n",
       "    .dataframe tbody tr th:only-of-type {\n",
       "        vertical-align: middle;\n",
       "    }\n",
       "\n",
       "    .dataframe tbody tr th {\n",
       "        vertical-align: top;\n",
       "    }\n",
       "\n",
       "    .dataframe thead th {\n",
       "        text-align: right;\n",
       "    }\n",
       "</style>\n",
       "<table border=\"1\" class=\"dataframe\">\n",
       "  <thead>\n",
       "    <tr style=\"text-align: right;\">\n",
       "      <th></th>\n",
       "      <th>product_id</th>\n",
       "      <th>date</th>\n",
       "      <th>session_id</th>\n",
       "      <th>client_id</th>\n",
       "      <th>Annee_Mois</th>\n",
       "    </tr>\n",
       "  </thead>\n",
       "  <tbody>\n",
       "    <tr>\n",
       "      <th>0</th>\n",
       "      <td>0_1518</td>\n",
       "      <td>2022-05-20 13:21:29.043970</td>\n",
       "      <td>s_211425</td>\n",
       "      <td>c_103</td>\n",
       "      <td>2022-05-01</td>\n",
       "    </tr>\n",
       "    <tr>\n",
       "      <th>1</th>\n",
       "      <td>1_251</td>\n",
       "      <td>2022-02-02 07:55:19.149409</td>\n",
       "      <td>s_158752</td>\n",
       "      <td>c_8534</td>\n",
       "      <td>2022-02-01</td>\n",
       "    </tr>\n",
       "    <tr>\n",
       "      <th>2</th>\n",
       "      <td>0_1277</td>\n",
       "      <td>2022-06-18 15:44:33.155329</td>\n",
       "      <td>s_225667</td>\n",
       "      <td>c_6714</td>\n",
       "      <td>2022-06-01</td>\n",
       "    </tr>\n",
       "    <tr>\n",
       "      <th>3</th>\n",
       "      <td>2_209</td>\n",
       "      <td>2021-06-24 04:19:29.835891</td>\n",
       "      <td>s_52962</td>\n",
       "      <td>c_6941</td>\n",
       "      <td>2021-06-01</td>\n",
       "    </tr>\n",
       "    <tr>\n",
       "      <th>4</th>\n",
       "      <td>0_1509</td>\n",
       "      <td>2023-01-11 08:22:08.194479</td>\n",
       "      <td>s_325227</td>\n",
       "      <td>c_4232</td>\n",
       "      <td>2023-01-01</td>\n",
       "    </tr>\n",
       "  </tbody>\n",
       "</table>\n",
       "</div>"
      ],
      "text/plain": [
       "  product_id                       date session_id client_id Annee_Mois\n",
       "0     0_1518 2022-05-20 13:21:29.043970   s_211425     c_103 2022-05-01\n",
       "1      1_251 2022-02-02 07:55:19.149409   s_158752    c_8534 2022-02-01\n",
       "2     0_1277 2022-06-18 15:44:33.155329   s_225667    c_6714 2022-06-01\n",
       "3      2_209 2021-06-24 04:19:29.835891    s_52962    c_6941 2021-06-01\n",
       "4     0_1509 2023-01-11 08:22:08.194479   s_325227    c_4232 2023-01-01"
      ]
     },
     "execution_count": 186,
     "metadata": {},
     "output_type": "execute_result"
    }
   ],
   "source": [
    "transactions.head()"
   ]
  },
  {
   "cell_type": "code",
   "execution_count": 187,
   "id": "9b5dfd4a",
   "metadata": {},
   "outputs": [
    {
     "name": "stdout",
     "output_type": "stream",
     "text": [
      "Transactions du 2021-03-01 au 2023-02-28\n"
     ]
    }
   ],
   "source": [
    "# On regarde pour quelle période nous avons les dates --> ici sur deux ans: 2021-03-01 au 2023-02-28\n",
    "\n",
    "print('Transactions du', str(transactions['date'].min())[:10], 'au', str(transactions['date'].max())[:10])"
   ]
  },
  {
   "cell_type": "code",
   "execution_count": 188,
   "id": "d02f0343",
   "metadata": {},
   "outputs": [
    {
     "data": {
      "text/html": [
       "<div>\n",
       "<style scoped>\n",
       "    .dataframe tbody tr th:only-of-type {\n",
       "        vertical-align: middle;\n",
       "    }\n",
       "\n",
       "    .dataframe tbody tr th {\n",
       "        vertical-align: top;\n",
       "    }\n",
       "\n",
       "    .dataframe thead th {\n",
       "        text-align: right;\n",
       "    }\n",
       "</style>\n",
       "<table border=\"1\" class=\"dataframe\">\n",
       "  <thead>\n",
       "    <tr style=\"text-align: right;\">\n",
       "      <th></th>\n",
       "      <th>product_id</th>\n",
       "      <th>date</th>\n",
       "      <th>session_id</th>\n",
       "      <th>client_id</th>\n",
       "      <th>Annee_Mois</th>\n",
       "    </tr>\n",
       "  </thead>\n",
       "  <tbody>\n",
       "    <tr>\n",
       "      <th>0</th>\n",
       "      <td>0_1518</td>\n",
       "      <td>2022-05-20 13:21:29.043970</td>\n",
       "      <td>s_211425</td>\n",
       "      <td>c_103</td>\n",
       "      <td>2022-05-01</td>\n",
       "    </tr>\n",
       "    <tr>\n",
       "      <th>1</th>\n",
       "      <td>1_251</td>\n",
       "      <td>2022-02-02 07:55:19.149409</td>\n",
       "      <td>s_158752</td>\n",
       "      <td>c_8534</td>\n",
       "      <td>2022-02-01</td>\n",
       "    </tr>\n",
       "    <tr>\n",
       "      <th>2</th>\n",
       "      <td>0_1277</td>\n",
       "      <td>2022-06-18 15:44:33.155329</td>\n",
       "      <td>s_225667</td>\n",
       "      <td>c_6714</td>\n",
       "      <td>2022-06-01</td>\n",
       "    </tr>\n",
       "    <tr>\n",
       "      <th>3</th>\n",
       "      <td>2_209</td>\n",
       "      <td>2021-06-24 04:19:29.835891</td>\n",
       "      <td>s_52962</td>\n",
       "      <td>c_6941</td>\n",
       "      <td>2021-06-01</td>\n",
       "    </tr>\n",
       "    <tr>\n",
       "      <th>4</th>\n",
       "      <td>0_1509</td>\n",
       "      <td>2023-01-11 08:22:08.194479</td>\n",
       "      <td>s_325227</td>\n",
       "      <td>c_4232</td>\n",
       "      <td>2023-01-01</td>\n",
       "    </tr>\n",
       "  </tbody>\n",
       "</table>\n",
       "</div>"
      ],
      "text/plain": [
       "  product_id                       date session_id client_id Annee_Mois\n",
       "0     0_1518 2022-05-20 13:21:29.043970   s_211425     c_103 2022-05-01\n",
       "1      1_251 2022-02-02 07:55:19.149409   s_158752    c_8534 2022-02-01\n",
       "2     0_1277 2022-06-18 15:44:33.155329   s_225667    c_6714 2022-06-01\n",
       "3      2_209 2021-06-24 04:19:29.835891    s_52962    c_6941 2021-06-01\n",
       "4     0_1509 2023-01-11 08:22:08.194479   s_325227    c_4232 2023-01-01"
      ]
     },
     "execution_count": 188,
     "metadata": {},
     "output_type": "execute_result"
    }
   ],
   "source": [
    "transactions.head()"
   ]
  },
  {
   "cell_type": "code",
   "execution_count": 189,
   "id": "d66580a2",
   "metadata": {},
   "outputs": [
    {
     "data": {
      "text/plain": [
       "0"
      ]
     },
     "execution_count": 189,
     "metadata": {},
     "output_type": "execute_result"
    }
   ],
   "source": [
    "# on vérification qu'il n'y ait pas de doublons après tout ca\n",
    "\n",
    "transactions.duplicated().sum()"
   ]
  },
  {
   "cell_type": "markdown",
   "id": "255d1516",
   "metadata": {},
   "source": [
    "<h2 align=\"center\"> <font color='#880B03'>B) Jointure de nos tables</font>  <h2>       "
   ]
  },
  {
   "cell_type": "code",
   "execution_count": 190,
   "id": "dd584325",
   "metadata": {},
   "outputs": [],
   "source": [
    "# Jointure entre customer et transactions"
   ]
  },
  {
   "cell_type": "code",
   "execution_count": 191,
   "id": "f18e29e0",
   "metadata": {},
   "outputs": [
    {
     "data": {
      "text/plain": [
       "8600"
      ]
     },
     "execution_count": 191,
     "metadata": {},
     "output_type": "execute_result"
    }
   ],
   "source": [
    "transactions['client_id'].nunique()"
   ]
  },
  {
   "cell_type": "code",
   "execution_count": 192,
   "id": "a8af1be7",
   "metadata": {},
   "outputs": [
    {
     "data": {
      "text/plain": [
       "8600"
      ]
     },
     "execution_count": 192,
     "metadata": {},
     "output_type": "execute_result"
    }
   ],
   "source": [
    "customer['client_id'].nunique()"
   ]
  },
  {
   "cell_type": "code",
   "execution_count": 193,
   "id": "78d9d7ce",
   "metadata": {},
   "outputs": [],
   "source": [
    "# Jointure entre customer et transactions/ ici 8600ID correspondant\n",
    "\n",
    "transactions_customer = pd.merge(transactions, customer, on=['client_id'], how='inner', indicator=True)"
   ]
  },
  {
   "cell_type": "code",
   "execution_count": 194,
   "id": "d4d3d5d3",
   "metadata": {
    "scrolled": true
   },
   "outputs": [
    {
     "data": {
      "text/plain": [
       "both          679332\n",
       "left_only          0\n",
       "right_only         0\n",
       "Name: _merge, dtype: int64"
      ]
     },
     "execution_count": 194,
     "metadata": {},
     "output_type": "execute_result"
    }
   ],
   "source": [
    "# Vérifie notre jointure\n",
    "\n",
    "transactions_customer['_merge'].value_counts()"
   ]
  },
  {
   "cell_type": "code",
   "execution_count": 195,
   "id": "33f3c314",
   "metadata": {},
   "outputs": [],
   "source": [
    "# Supprime l'indicateur pour la prochaine jointure\n",
    "\n",
    "transactions_customer.drop(columns=['_merge'], inplace=True)"
   ]
  },
  {
   "cell_type": "code",
   "execution_count": 196,
   "id": "b0944916",
   "metadata": {},
   "outputs": [
    {
     "data": {
      "text/html": [
       "<div>\n",
       "<style scoped>\n",
       "    .dataframe tbody tr th:only-of-type {\n",
       "        vertical-align: middle;\n",
       "    }\n",
       "\n",
       "    .dataframe tbody tr th {\n",
       "        vertical-align: top;\n",
       "    }\n",
       "\n",
       "    .dataframe thead th {\n",
       "        text-align: right;\n",
       "    }\n",
       "</style>\n",
       "<table border=\"1\" class=\"dataframe\">\n",
       "  <thead>\n",
       "    <tr style=\"text-align: right;\">\n",
       "      <th></th>\n",
       "      <th>product_id</th>\n",
       "      <th>date</th>\n",
       "      <th>session_id</th>\n",
       "      <th>client_id</th>\n",
       "      <th>Annee_Mois</th>\n",
       "      <th>sex</th>\n",
       "      <th>birth</th>\n",
       "      <th>age</th>\n",
       "      <th>categorie_age</th>\n",
       "    </tr>\n",
       "  </thead>\n",
       "  <tbody>\n",
       "    <tr>\n",
       "      <th>0</th>\n",
       "      <td>0_1518</td>\n",
       "      <td>2022-05-20 13:21:29.043970</td>\n",
       "      <td>s_211425</td>\n",
       "      <td>c_103</td>\n",
       "      <td>2022-05-01</td>\n",
       "      <td>f</td>\n",
       "      <td>1986</td>\n",
       "      <td>37</td>\n",
       "      <td>thirties</td>\n",
       "    </tr>\n",
       "    <tr>\n",
       "      <th>1</th>\n",
       "      <td>0_1627</td>\n",
       "      <td>2022-06-18 05:55:31.816994</td>\n",
       "      <td>s_225494</td>\n",
       "      <td>c_103</td>\n",
       "      <td>2022-06-01</td>\n",
       "      <td>f</td>\n",
       "      <td>1986</td>\n",
       "      <td>37</td>\n",
       "      <td>thirties</td>\n",
       "    </tr>\n",
       "    <tr>\n",
       "      <th>2</th>\n",
       "      <td>0_1104</td>\n",
       "      <td>2023-02-08 17:31:06.898425</td>\n",
       "      <td>s_338755</td>\n",
       "      <td>c_103</td>\n",
       "      <td>2023-02-01</td>\n",
       "      <td>f</td>\n",
       "      <td>1986</td>\n",
       "      <td>37</td>\n",
       "      <td>thirties</td>\n",
       "    </tr>\n",
       "    <tr>\n",
       "      <th>3</th>\n",
       "      <td>0_1390</td>\n",
       "      <td>2021-04-20 06:18:39.939761</td>\n",
       "      <td>s_23078</td>\n",
       "      <td>c_103</td>\n",
       "      <td>2021-04-01</td>\n",
       "      <td>f</td>\n",
       "      <td>1986</td>\n",
       "      <td>37</td>\n",
       "      <td>thirties</td>\n",
       "    </tr>\n",
       "    <tr>\n",
       "      <th>4</th>\n",
       "      <td>0_1547</td>\n",
       "      <td>2022-03-15 19:54:53.904123</td>\n",
       "      <td>s_179629</td>\n",
       "      <td>c_103</td>\n",
       "      <td>2022-03-01</td>\n",
       "      <td>f</td>\n",
       "      <td>1986</td>\n",
       "      <td>37</td>\n",
       "      <td>thirties</td>\n",
       "    </tr>\n",
       "  </tbody>\n",
       "</table>\n",
       "</div>"
      ],
      "text/plain": [
       "  product_id                       date session_id client_id Annee_Mois sex  \\\n",
       "0     0_1518 2022-05-20 13:21:29.043970   s_211425     c_103 2022-05-01   f   \n",
       "1     0_1627 2022-06-18 05:55:31.816994   s_225494     c_103 2022-06-01   f   \n",
       "2     0_1104 2023-02-08 17:31:06.898425   s_338755     c_103 2023-02-01   f   \n",
       "3     0_1390 2021-04-20 06:18:39.939761    s_23078     c_103 2021-04-01   f   \n",
       "4     0_1547 2022-03-15 19:54:53.904123   s_179629     c_103 2022-03-01   f   \n",
       "\n",
       "   birth  age categorie_age  \n",
       "0   1986   37      thirties  \n",
       "1   1986   37      thirties  \n",
       "2   1986   37      thirties  \n",
       "3   1986   37      thirties  \n",
       "4   1986   37      thirties  "
      ]
     },
     "execution_count": 196,
     "metadata": {},
     "output_type": "execute_result"
    }
   ],
   "source": [
    "transactions_customer.head()"
   ]
  },
  {
   "cell_type": "code",
   "execution_count": 197,
   "id": "1dd1b4a0",
   "metadata": {},
   "outputs": [],
   "source": [
    "# Jointure entre transactions et product"
   ]
  },
  {
   "cell_type": "code",
   "execution_count": 198,
   "id": "d331cb1a",
   "metadata": {},
   "outputs": [
    {
     "data": {
      "text/plain": [
       "3266"
      ]
     },
     "execution_count": 198,
     "metadata": {},
     "output_type": "execute_result"
    }
   ],
   "source": [
    "transactions['product_id'].nunique()"
   ]
  },
  {
   "cell_type": "code",
   "execution_count": 199,
   "id": "8eb5cf8e",
   "metadata": {},
   "outputs": [
    {
     "data": {
      "text/plain": [
       "3266"
      ]
     },
     "execution_count": 199,
     "metadata": {},
     "output_type": "execute_result"
    }
   ],
   "source": [
    "product['product_id'].nunique()"
   ]
  },
  {
   "cell_type": "code",
   "execution_count": 200,
   "id": "7fc53736",
   "metadata": {},
   "outputs": [],
   "source": [
    "# Jointure entre transactions_customer et product/ ici 3265 ID correspondant\n",
    "\n",
    "df = pd.merge(transactions_customer, product, on=['product_id'], how='inner', indicator=True)"
   ]
  },
  {
   "cell_type": "code",
   "execution_count": 201,
   "id": "110e9da8",
   "metadata": {},
   "outputs": [
    {
     "data": {
      "text/plain": [
       "both          679332\n",
       "left_only          0\n",
       "right_only         0\n",
       "Name: _merge, dtype: int64"
      ]
     },
     "execution_count": 201,
     "metadata": {},
     "output_type": "execute_result"
    }
   ],
   "source": [
    "df['_merge'].value_counts()"
   ]
  },
  {
   "cell_type": "code",
   "execution_count": 202,
   "id": "ecb45933",
   "metadata": {},
   "outputs": [],
   "source": [
    "# Supprime l'indicateur pour epurer la table\n",
    "\n",
    "df.drop(columns=['_merge'], inplace=True)"
   ]
  },
  {
   "cell_type": "code",
   "execution_count": 203,
   "id": "5c43b6f7",
   "metadata": {
    "scrolled": true
   },
   "outputs": [
    {
     "data": {
      "text/html": [
       "<div>\n",
       "<style scoped>\n",
       "    .dataframe tbody tr th:only-of-type {\n",
       "        vertical-align: middle;\n",
       "    }\n",
       "\n",
       "    .dataframe tbody tr th {\n",
       "        vertical-align: top;\n",
       "    }\n",
       "\n",
       "    .dataframe thead th {\n",
       "        text-align: right;\n",
       "    }\n",
       "</style>\n",
       "<table border=\"1\" class=\"dataframe\">\n",
       "  <thead>\n",
       "    <tr style=\"text-align: right;\">\n",
       "      <th></th>\n",
       "      <th>product_id</th>\n",
       "      <th>date</th>\n",
       "      <th>session_id</th>\n",
       "      <th>client_id</th>\n",
       "      <th>Annee_Mois</th>\n",
       "      <th>sex</th>\n",
       "      <th>birth</th>\n",
       "      <th>age</th>\n",
       "      <th>categorie_age</th>\n",
       "      <th>price</th>\n",
       "      <th>categ</th>\n",
       "    </tr>\n",
       "  </thead>\n",
       "  <tbody>\n",
       "    <tr>\n",
       "      <th>0</th>\n",
       "      <td>0_1518</td>\n",
       "      <td>2022-05-20 13:21:29.043970</td>\n",
       "      <td>s_211425</td>\n",
       "      <td>c_103</td>\n",
       "      <td>2022-05-01</td>\n",
       "      <td>f</td>\n",
       "      <td>1986</td>\n",
       "      <td>37</td>\n",
       "      <td>thirties</td>\n",
       "      <td>4.18</td>\n",
       "      <td>0</td>\n",
       "    </tr>\n",
       "    <tr>\n",
       "      <th>1</th>\n",
       "      <td>0_1518</td>\n",
       "      <td>2021-07-20 13:21:29.043970</td>\n",
       "      <td>s_64849</td>\n",
       "      <td>c_103</td>\n",
       "      <td>2021-07-01</td>\n",
       "      <td>f</td>\n",
       "      <td>1986</td>\n",
       "      <td>37</td>\n",
       "      <td>thirties</td>\n",
       "      <td>4.18</td>\n",
       "      <td>0</td>\n",
       "    </tr>\n",
       "    <tr>\n",
       "      <th>2</th>\n",
       "      <td>0_1518</td>\n",
       "      <td>2022-08-20 13:21:29.043970</td>\n",
       "      <td>s_255965</td>\n",
       "      <td>c_103</td>\n",
       "      <td>2022-08-01</td>\n",
       "      <td>f</td>\n",
       "      <td>1986</td>\n",
       "      <td>37</td>\n",
       "      <td>thirties</td>\n",
       "      <td>4.18</td>\n",
       "      <td>0</td>\n",
       "    </tr>\n",
       "    <tr>\n",
       "      <th>3</th>\n",
       "      <td>0_1518</td>\n",
       "      <td>2021-05-09 11:52:55.100386</td>\n",
       "      <td>s_32104</td>\n",
       "      <td>c_6714</td>\n",
       "      <td>2021-05-01</td>\n",
       "      <td>f</td>\n",
       "      <td>1968</td>\n",
       "      <td>55</td>\n",
       "      <td>fifties</td>\n",
       "      <td>4.18</td>\n",
       "      <td>0</td>\n",
       "    </tr>\n",
       "    <tr>\n",
       "      <th>4</th>\n",
       "      <td>0_1518</td>\n",
       "      <td>2022-05-30 01:17:07.487046</td>\n",
       "      <td>s_216118</td>\n",
       "      <td>c_6714</td>\n",
       "      <td>2022-05-01</td>\n",
       "      <td>f</td>\n",
       "      <td>1968</td>\n",
       "      <td>55</td>\n",
       "      <td>fifties</td>\n",
       "      <td>4.18</td>\n",
       "      <td>0</td>\n",
       "    </tr>\n",
       "  </tbody>\n",
       "</table>\n",
       "</div>"
      ],
      "text/plain": [
       "  product_id                       date session_id client_id Annee_Mois sex  \\\n",
       "0     0_1518 2022-05-20 13:21:29.043970   s_211425     c_103 2022-05-01   f   \n",
       "1     0_1518 2021-07-20 13:21:29.043970    s_64849     c_103 2021-07-01   f   \n",
       "2     0_1518 2022-08-20 13:21:29.043970   s_255965     c_103 2022-08-01   f   \n",
       "3     0_1518 2021-05-09 11:52:55.100386    s_32104    c_6714 2021-05-01   f   \n",
       "4     0_1518 2022-05-30 01:17:07.487046   s_216118    c_6714 2022-05-01   f   \n",
       "\n",
       "   birth  age categorie_age  price  categ  \n",
       "0   1986   37      thirties   4.18      0  \n",
       "1   1986   37      thirties   4.18      0  \n",
       "2   1986   37      thirties   4.18      0  \n",
       "3   1968   55       fifties   4.18      0  \n",
       "4   1968   55       fifties   4.18      0  "
      ]
     },
     "execution_count": 203,
     "metadata": {},
     "output_type": "execute_result"
    }
   ],
   "source": [
    "df.head()"
   ]
  },
  {
   "cell_type": "code",
   "execution_count": 204,
   "id": "185b6cff",
   "metadata": {},
   "outputs": [],
   "source": [
    "# Ajoute des colonnes supplémentaires pour les analyses futures\n",
    "\n",
    "# Jointure gauche pour  garder toutes mes données de la table df et y greffer juste le total_achat pour tout les clients\n",
    "\n",
    "# Montant total par clients.\n",
    "df = df.merge(\n",
    "        df.pivot_table(\n",
    "            index='client_id', values='price', \n",
    "            aggfunc='sum').reset_index().rename(\n",
    "            columns={'price': 'total_achats'}),\n",
    "        on='client_id', how='left')\n",
    "\n",
    "\n",
    "# Nbr transactions par clients.\n",
    "df = df.merge(\n",
    "        df.pivot_table(\n",
    "            index='client_id', values='price', \n",
    "            aggfunc='count').reset_index().rename(\n",
    "            columns={'price': 'Nbr_Transaction'}),\n",
    "        on='client_id', how='left')\n",
    "\n",
    "\n",
    "# Panier moyen par clients.\n",
    "df = df.merge(\n",
    "        df.pivot_table(\n",
    "             index='client_id', values='price', \n",
    "             aggfunc='mean').reset_index().rename(\n",
    "             columns={'price': 'Panier_Moyen'}),\n",
    "        on='client_id', how='left')\n",
    "df['Panier_Moyen'] = df['Panier_Moyen'].round(2)"
   ]
  },
  {
   "cell_type": "code",
   "execution_count": 205,
   "id": "580a16d4",
   "metadata": {
    "scrolled": false
   },
   "outputs": [
    {
     "data": {
      "text/html": [
       "<div>\n",
       "<style scoped>\n",
       "    .dataframe tbody tr th:only-of-type {\n",
       "        vertical-align: middle;\n",
       "    }\n",
       "\n",
       "    .dataframe tbody tr th {\n",
       "        vertical-align: top;\n",
       "    }\n",
       "\n",
       "    .dataframe thead th {\n",
       "        text-align: right;\n",
       "    }\n",
       "</style>\n",
       "<table border=\"1\" class=\"dataframe\">\n",
       "  <thead>\n",
       "    <tr style=\"text-align: right;\">\n",
       "      <th></th>\n",
       "      <th>product_id</th>\n",
       "      <th>date</th>\n",
       "      <th>session_id</th>\n",
       "      <th>client_id</th>\n",
       "      <th>Annee_Mois</th>\n",
       "      <th>sex</th>\n",
       "      <th>birth</th>\n",
       "      <th>age</th>\n",
       "      <th>categorie_age</th>\n",
       "      <th>price</th>\n",
       "      <th>categ</th>\n",
       "      <th>total_achats</th>\n",
       "      <th>Nbr_Transaction</th>\n",
       "      <th>Panier_Moyen</th>\n",
       "    </tr>\n",
       "  </thead>\n",
       "  <tbody>\n",
       "    <tr>\n",
       "      <th>0</th>\n",
       "      <td>0_1518</td>\n",
       "      <td>2022-05-20 13:21:29.043970</td>\n",
       "      <td>s_211425</td>\n",
       "      <td>c_103</td>\n",
       "      <td>2022-05-01</td>\n",
       "      <td>f</td>\n",
       "      <td>1986</td>\n",
       "      <td>37</td>\n",
       "      <td>thirties</td>\n",
       "      <td>4.18</td>\n",
       "      <td>0</td>\n",
       "      <td>2288.49</td>\n",
       "      <td>195</td>\n",
       "      <td>11.74</td>\n",
       "    </tr>\n",
       "    <tr>\n",
       "      <th>1</th>\n",
       "      <td>0_1518</td>\n",
       "      <td>2021-07-20 13:21:29.043970</td>\n",
       "      <td>s_64849</td>\n",
       "      <td>c_103</td>\n",
       "      <td>2021-07-01</td>\n",
       "      <td>f</td>\n",
       "      <td>1986</td>\n",
       "      <td>37</td>\n",
       "      <td>thirties</td>\n",
       "      <td>4.18</td>\n",
       "      <td>0</td>\n",
       "      <td>2288.49</td>\n",
       "      <td>195</td>\n",
       "      <td>11.74</td>\n",
       "    </tr>\n",
       "    <tr>\n",
       "      <th>2</th>\n",
       "      <td>0_1518</td>\n",
       "      <td>2022-08-20 13:21:29.043970</td>\n",
       "      <td>s_255965</td>\n",
       "      <td>c_103</td>\n",
       "      <td>2022-08-01</td>\n",
       "      <td>f</td>\n",
       "      <td>1986</td>\n",
       "      <td>37</td>\n",
       "      <td>thirties</td>\n",
       "      <td>4.18</td>\n",
       "      <td>0</td>\n",
       "      <td>2288.49</td>\n",
       "      <td>195</td>\n",
       "      <td>11.74</td>\n",
       "    </tr>\n",
       "    <tr>\n",
       "      <th>3</th>\n",
       "      <td>0_1518</td>\n",
       "      <td>2021-05-09 11:52:55.100386</td>\n",
       "      <td>s_32104</td>\n",
       "      <td>c_6714</td>\n",
       "      <td>2021-05-01</td>\n",
       "      <td>f</td>\n",
       "      <td>1968</td>\n",
       "      <td>55</td>\n",
       "      <td>fifties</td>\n",
       "      <td>4.18</td>\n",
       "      <td>0</td>\n",
       "      <td>153669.18</td>\n",
       "      <td>9187</td>\n",
       "      <td>16.73</td>\n",
       "    </tr>\n",
       "    <tr>\n",
       "      <th>4</th>\n",
       "      <td>0_1518</td>\n",
       "      <td>2022-05-30 01:17:07.487046</td>\n",
       "      <td>s_216118</td>\n",
       "      <td>c_6714</td>\n",
       "      <td>2022-05-01</td>\n",
       "      <td>f</td>\n",
       "      <td>1968</td>\n",
       "      <td>55</td>\n",
       "      <td>fifties</td>\n",
       "      <td>4.18</td>\n",
       "      <td>0</td>\n",
       "      <td>153669.18</td>\n",
       "      <td>9187</td>\n",
       "      <td>16.73</td>\n",
       "    </tr>\n",
       "  </tbody>\n",
       "</table>\n",
       "</div>"
      ],
      "text/plain": [
       "  product_id                       date session_id client_id Annee_Mois sex  \\\n",
       "0     0_1518 2022-05-20 13:21:29.043970   s_211425     c_103 2022-05-01   f   \n",
       "1     0_1518 2021-07-20 13:21:29.043970    s_64849     c_103 2021-07-01   f   \n",
       "2     0_1518 2022-08-20 13:21:29.043970   s_255965     c_103 2022-08-01   f   \n",
       "3     0_1518 2021-05-09 11:52:55.100386    s_32104    c_6714 2021-05-01   f   \n",
       "4     0_1518 2022-05-30 01:17:07.487046   s_216118    c_6714 2022-05-01   f   \n",
       "\n",
       "   birth  age categorie_age  price  categ  total_achats  Nbr_Transaction  \\\n",
       "0   1986   37      thirties   4.18      0       2288.49              195   \n",
       "1   1986   37      thirties   4.18      0       2288.49              195   \n",
       "2   1986   37      thirties   4.18      0       2288.49              195   \n",
       "3   1968   55       fifties   4.18      0     153669.18             9187   \n",
       "4   1968   55       fifties   4.18      0     153669.18             9187   \n",
       "\n",
       "   Panier_Moyen  \n",
       "0         11.74  \n",
       "1         11.74  \n",
       "2         11.74  \n",
       "3         16.73  \n",
       "4         16.73  "
      ]
     },
     "execution_count": 205,
     "metadata": {},
     "output_type": "execute_result"
    }
   ],
   "source": [
    "df.head()\n"
   ]
  },
  {
   "cell_type": "markdown",
   "id": "f0b72357",
   "metadata": {},
   "source": [
    "<h2 align=\"center\"> <font color='#880B03'> C) Sauvegarde de notre table de travail </font>  <h2>       "
   ]
  },
  {
   "cell_type": "code",
   "execution_count": 206,
   "id": "1eb1a059",
   "metadata": {},
   "outputs": [],
   "source": [
    "# Sauvegarde cette table dans un fichier csv qu'on utilisera dans un autre notebook d'analyse.\n",
    "\n",
    "df.to_csv('C:/Users/alex/Desktop/Projet_6/données/Table.csv',index=None)"
   ]
  }
 ],
 "metadata": {
  "kernelspec": {
   "display_name": "Python 3 (ipykernel)",
   "language": "python",
   "name": "python3"
  },
  "language_info": {
   "codemirror_mode": {
    "name": "ipython",
    "version": 3
   },
   "file_extension": ".py",
   "mimetype": "text/x-python",
   "name": "python",
   "nbconvert_exporter": "python",
   "pygments_lexer": "ipython3",
   "version": "3.11.4"
  }
 },
 "nbformat": 4,
 "nbformat_minor": 5
}
